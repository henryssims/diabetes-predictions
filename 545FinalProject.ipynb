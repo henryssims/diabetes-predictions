{
  "cells": [
    {
      "cell_type": "markdown",
      "metadata": {
        "id": "lbvodz8EaZro"
      },
      "source": [
        "# **Introduction and Background**\n",
        "\n",
        "Our final project aims to bring a data-driven perspective to research behind diabetes prediction and prevention.  Diabetes is among the most prevalent chronic diseases in the United States, impacting millions of Americans each year and exerting a significant financial burden on the economy. The scale of this problem is important to recognize. The Centers for Disease Control and Prevention has indicated that as of 2018, 34.2 million Americans have diabetes and 88 million have prediabetes. Furthermore, the CDC estimates that 1 in 5 diabetics, and roughly 8 in 10 prediabetics are unaware of their risk. Diabetes is proven to be highly preventable, so by analyzing patterns and trends in diabetes diagnosis data, our goal is to determine the predictors behind diabetes and their degrees of influence in order to educate prediabetics on their risks as well provide comprehensive, empirical insights into diabetes, serving as a resource for researchers and doctors, as well as the general public and high risk populations.\n",
        "\n",
        "We used a comprehensive dataset, Behavioral Risk Factor Surveillance System, from Kaggle, which documented over 400,000 detailed survey responses each year from 2011-2015 to the Behavioral Risk Factor Surveillance System, a health-related telephone survey that is collected annually by the CDC. The dataset details include characteristics such as diabetes diagnosis, body mass index, physical fitness, diet, smoking habits, income, age, and more. From this dataset, we decided to use data only from 2013, and cleaned it to include only 22 of the most relevant columns.\n"
      ]
    },
    {
      "cell_type": "code",
      "execution_count": null,
      "metadata": {
        "colab": {
          "background_save": true
        },
        "id": "y7TmId-zBMdb"
      },
      "outputs": [],
      "source": [
        "import numpy as np\n",
        "import pandas as pd\n",
        "import seaborn as sns\n",
        "import matplotlib.pyplot as plt\n",
        "from sklearn.neighbors import KNeighborsClassifier\n",
        "from sklearn.linear_model import LogisticRegression\n",
        "from sklearn.model_selection import train_test_split, GridSearchCV, StratifiedKFold\n",
        "from sklearn.metrics import accuracy_score, precision_score, recall_score, confusion_matrix\n",
        "from sklearn.preprocessing import OneHotEncoder, OrdinalEncoder, StandardScaler\n",
        "from sklearn.decomposition import PCA\n",
        "from sklearn.tree import DecisionTreeClassifier\n",
        "from sklearn.ensemble import RandomForestClassifier"
      ]
    },
    {
      "cell_type": "code",
      "execution_count": null,
      "metadata": {
        "id": "Dnvwnk1UCcwd"
      },
      "outputs": [],
      "source": [
        "from google.colab import drive\n",
        "drive.mount('/content/drive')"
      ]
    },
    {
      "cell_type": "code",
      "execution_count": null,
      "metadata": {
        "id": "WOHiRCw8CdQW"
      },
      "outputs": [],
      "source": [
        "!mkdir -p ~/.kaggle"
      ]
    },
    {
      "cell_type": "code",
      "execution_count": null,
      "metadata": {
        "id": "g-OzDnXpCdWR"
      },
      "outputs": [],
      "source": [
        "!cp /content/drive/MyDrive/kaggle.json ~/.kaggle/"
      ]
    },
    {
      "cell_type": "code",
      "execution_count": null,
      "metadata": {
        "id": "-tj7m6uzCdcD"
      },
      "outputs": [],
      "source": [
        "!kaggle datasets download -d cdc/behavioral-risk-factor-surveillance-system"
      ]
    },
    {
      "cell_type": "markdown",
      "metadata": {
        "id": "Mww28u9QSesr"
      },
      "source": [
        "We were originally going to use the dataset found here: https://www.kaggle.com/datasets/alexteboul/diabetes-health-indicators-dataset, but the data was already very clean so there was not really anything left to be done by us for data wrangling/cleaning. So, we decided to use the original dataset that that dataset got its data from, which was linked in the Kaggle page. We used a different year of data so that it is not exactly the same, but we manipulated it so it had pretty much all the same features."
      ]
    },
    {
      "cell_type": "code",
      "execution_count": null,
      "metadata": {
        "id": "3rGerp6oCrMM"
      },
      "outputs": [],
      "source": [
        "!unzip /content/behavioral-risk-factor-surveillance-system.zip"
      ]
    },
    {
      "cell_type": "code",
      "execution_count": null,
      "metadata": {
        "id": "MJ6uDkzmCrSt"
      },
      "outputs": [],
      "source": [
        "db_df = pd.read_csv('2013.csv');\n",
        "\n",
        "db_df.head(5)"
      ]
    },
    {
      "cell_type": "code",
      "execution_count": null,
      "metadata": {
        "id": "A99FwJqWEiOM"
      },
      "outputs": [],
      "source": [
        "db_df.info()"
      ]
    },
    {
      "cell_type": "markdown",
      "metadata": {
        "id": "XjuM8M-Yq_V4"
      },
      "source": [
        "# Data Pre-Processing\n",
        "By looking through the dataset and the code book to see what each column title and values mean, we have chosen to include all of the features selected in the following cell. Then, for each feature, we will see all the possible values it can have and if it is binary, encode it as 0 for the negative and 1 for the positive. We will leave ordinal features be, but for all features get rid of the missing/refused data."
      ]
    },
    {
      "cell_type": "code",
      "execution_count": null,
      "metadata": {
        "id": "Q179g4cXwZ-f"
      },
      "outputs": [],
      "source": [
        "#selecting the desired columns\n",
        "db_df = db_df[['DIABETE3', '_RFHYPE5', 'TOLDHI2', '_CHOLCHK', '_BMI5', 'SMOKE100',\n",
        "               'CVDSTRK3', 'CVDCRHD4', '_TOTINDA', '_FRTLT1', '_VEGLT1', 'ALCDAY5',\n",
        "               'HLTHPLN1', 'MEDCOST', 'GENHLTH', 'MENTHLTH', 'PHYSHLTH', 'DIFFWALK',\n",
        "               'SEX', '_AGEG5YR', 'EDUCA', 'INCOME2' ]]"
      ]
    },
    {
      "cell_type": "code",
      "execution_count": null,
      "metadata": {
        "id": "AELA_X9d5doN"
      },
      "outputs": [],
      "source": [
        "db_df.head(5)"
      ]
    },
    {
      "cell_type": "code",
      "execution_count": null,
      "metadata": {
        "id": "MgxOoXAjTUEJ"
      },
      "outputs": [],
      "source": [
        "db_df.info()"
      ]
    },
    {
      "cell_type": "code",
      "execution_count": null,
      "metadata": {
        "id": "IThcEVz75jlq"
      },
      "outputs": [],
      "source": [
        "db_df= db_df.dropna()"
      ]
    },
    {
      "cell_type": "code",
      "execution_count": null,
      "metadata": {
        "id": "k13zgYRWUXyL"
      },
      "outputs": [],
      "source": [
        "db_df['DIABETE3'].unique()\n",
        "#checking what values the diabetes column contains. 7 refers to cases where they don't know and 9 refers to\n",
        "#cases where the patient refused, so we will remove those. 2 and 3 refer to either no diabetes or diabetes only during pregnancy,\n",
        "#so those will be mapped to 0 for no diabetes. 1 refers to diabetes and 4 refers to prediabetes, so those will both be mapped to\n",
        "#1 for diabetes"
      ]
    },
    {
      "cell_type": "code",
      "execution_count": null,
      "metadata": {
        "id": "YCnlvOzU6FBB"
      },
      "outputs": [],
      "source": [
        "db_df['DIABETE3'] = db_df['DIABETE3'].replace({ 2: 0, 3: 0, 4: 1 })\n",
        "db_df = db_df[db_df.DIABETE3 != 7]\n",
        "db_df= db_df[db_df.DIABETE3 != 9]\n",
        "db_df.DIABETE3.unique()"
      ]
    },
    {
      "cell_type": "code",
      "execution_count": null,
      "metadata": {
        "id": "nJ-PM7eUVtp1"
      },
      "outputs": [],
      "source": [
        "db_df['_RFHYPE5'].unique()\n",
        "#checking what values the blood pressure column contains. 9 refers to refused so\n",
        "#those rows will be dropped, 1 refers to no high blood pressure so that will be mapped to 0, and 2 refers to high\n",
        "#blood pressure so that will be mapped to 1"
      ]
    },
    {
      "cell_type": "code",
      "execution_count": null,
      "metadata": {
        "id": "OnLVNUhC6att"
      },
      "outputs": [],
      "source": [
        "db_df['_RFHYPE5'] = db_df['_RFHYPE5'].replace({ 1: 0, 2: 1 })\n",
        "db_df_selected = db_df[db_df._RFHYPE5 != 9]\n",
        "db_df_selected._RFHYPE5.unique()"
      ]
    },
    {
      "cell_type": "code",
      "execution_count": null,
      "metadata": {
        "id": "kvPRoxXrWhTM"
      },
      "outputs": [],
      "source": [
        "db_df['TOLDHI2'].unique()\n",
        "#checking what values the high cholesterol column contains. Again, gets rid of\n",
        "#don't know and refused rows, and maps no high cholesterol to 0 and high cholesterol to 1"
      ]
    },
    {
      "cell_type": "code",
      "execution_count": null,
      "metadata": {
        "id": "2aFn5z4f6jkr"
      },
      "outputs": [],
      "source": [
        "db_df['TOLDHI2'] = db_df['TOLDHI2'].replace({ 2: 0 })\n",
        "db_df = db_df[db_df.TOLDHI2 != 7]\n",
        "db_df = db_df[db_df.TOLDHI2 != 9]\n",
        "db_df.TOLDHI2.unique()"
      ]
    },
    {
      "cell_type": "code",
      "execution_count": null,
      "metadata": {
        "id": "v2v_4p0gXN8K"
      },
      "outputs": [],
      "source": [
        "db_df['_CHOLCHK'].unique()\n",
        "#checking what values the high cholesterol check contains. Again, gets rid of\n",
        "#don't know and refused rows, and maps no check in the past 5 years to 0 and\n",
        "#check in the past 5 years to 1"
      ]
    },
    {
      "cell_type": "code",
      "execution_count": null,
      "metadata": {
        "id": "7nQblkai6-AG"
      },
      "outputs": [],
      "source": [
        "db_df['_CHOLCHK'] = db_df['_CHOLCHK'].replace({ 3: 0, 2: 0 })\n",
        "db_df = db_df[db_df._CHOLCHK != 9]\n",
        "db_df._CHOLCHK.unique()"
      ]
    },
    {
      "cell_type": "code",
      "execution_count": null,
      "metadata": {
        "id": "SWYHkVciXzOL"
      },
      "outputs": [],
      "source": [
        "db_df['_BMI5'].unique()\n",
        "#checking what values the bmi column contains. These are the bmi values times 100, so we divided them by 100 to get them back to normal"
      ]
    },
    {
      "cell_type": "code",
      "execution_count": null,
      "metadata": {
        "id": "W8p19ps777mq"
      },
      "outputs": [],
      "source": [
        "db_df['_BMI5'] = db_df['_BMI5'].apply(lambda x: x // 100)\n",
        "db_df._BMI5.unique()"
      ]
    },
    {
      "cell_type": "code",
      "execution_count": null,
      "metadata": {
        "id": "y0xCnWhiYdNy"
      },
      "outputs": [],
      "source": [
        "db_df['SMOKE100'].unique()\n",
        "#checking what values the smoking column contains. Again, gets rid of\n",
        "#don't know and refused rows, and maps no smoking to 0 and smoking to 1"
      ]
    },
    {
      "cell_type": "code",
      "execution_count": null,
      "metadata": {
        "id": "gfq7CgSU8hf_"
      },
      "outputs": [],
      "source": [
        "db_df['SMOKE100'] = db_df['SMOKE100'].replace({ 2: 0 })\n",
        "db_df = db_df[db_df.SMOKE100 != 7]\n",
        "db_df = db_df[db_df.SMOKE100 != 9]\n",
        "db_df.SMOKE100.unique()"
      ]
    },
    {
      "cell_type": "code",
      "execution_count": null,
      "metadata": {
        "id": "H2vk3sFXZDy2"
      },
      "outputs": [],
      "source": [
        "db_df['CVDSTRK3'].unique()\n",
        "#checking what values the stroke column contains. Again, gets rid of\n",
        "#don't know and refused rows, and maps no stroke to 0 and stroke to 1"
      ]
    },
    {
      "cell_type": "code",
      "execution_count": null,
      "metadata": {
        "id": "0EhLDz2B8nW2"
      },
      "outputs": [],
      "source": [
        "db_df['CVDSTRK3'] = db_df['CVDSTRK3'].replace({ 2: 0 })\n",
        "db_df = db_df[db_df.CVDSTRK3 != 7]\n",
        "db_df = db_df[db_df.CVDSTRK3 != 9]\n",
        "db_df.CVDSTRK3.unique()"
      ]
    },
    {
      "cell_type": "code",
      "execution_count": null,
      "metadata": {
        "id": "JMZCLm_0ZRP_"
      },
      "outputs": [],
      "source": [
        "db_df['CVDCRHD4'].unique()\n",
        "#checking what values the heart disease/attack column contains. Again, gets rid of\n",
        "#don't know and refused rows, and maps no heart disease/attack to 0 and heart disease/attack to 1"
      ]
    },
    {
      "cell_type": "code",
      "execution_count": null,
      "metadata": {
        "id": "cZ7qxFWN83Jo"
      },
      "outputs": [],
      "source": [
        "db_df['CVDCRHD4'] = db_df['CVDCRHD4'].replace({ 2: 0 })\n",
        "db_df = db_df[db_df.CVDCRHD4 != 7]\n",
        "db_df = db_df[db_df.CVDCRHD4 != 9]\n",
        "db_df.CVDCRHD4.unique()"
      ]
    },
    {
      "cell_type": "code",
      "execution_count": null,
      "metadata": {
        "id": "WVzQApsmZg-4"
      },
      "outputs": [],
      "source": [
        "db_df['_TOTINDA'].unique()\n",
        "#checking what values the physical activity column contains. Again, gets rid of\n",
        "#don't know and refused rows, and maps no physical activity to 0 and physical activity to 1"
      ]
    },
    {
      "cell_type": "code",
      "execution_count": null,
      "metadata": {
        "id": "2TdkEUVu9Oji"
      },
      "outputs": [],
      "source": [
        "db_df['_TOTINDA'] = db_df['_TOTINDA'].replace({ 2: 0 })\n",
        "db_df = db_df[db_df._TOTINDA != 9]\n",
        "db_df._TOTINDA.unique()"
      ]
    },
    {
      "cell_type": "code",
      "execution_count": null,
      "metadata": {
        "id": "sTEfiNRHZ2BW"
      },
      "outputs": [],
      "source": [
        "db_df['_FRTLT1'].unique()\n",
        "#checking what values the fruits column contains. Again, gets rid of\n",
        "#don't know and refused rows, and maps no fruits to 0 and fruits to 1"
      ]
    },
    {
      "cell_type": "code",
      "execution_count": null,
      "metadata": {
        "id": "pTd7KQk29QiY"
      },
      "outputs": [],
      "source": [
        "db_df['_FRTLT1'] = db_df['_FRTLT1'].replace({ 2: 0 })\n",
        "db_df = db_df[db_df._FRTLT1 != 9]\n",
        "db_df._FRTLT1.unique()"
      ]
    },
    {
      "cell_type": "code",
      "execution_count": null,
      "metadata": {
        "id": "lu1p2RKMaCzS"
      },
      "outputs": [],
      "source": [
        "db_df['_VEGLT1'].unique()\n",
        "#checking what values the vegetables column contains. Again, gets rid of\n",
        "#don't know and refused rows, and maps no vegetables to 0 and vegetables to 1"
      ]
    },
    {
      "cell_type": "code",
      "execution_count": null,
      "metadata": {
        "id": "L9ni3h9i9TOb"
      },
      "outputs": [],
      "source": [
        "db_df['_VEGLT1'] = db_df['_VEGLT1'].replace({ 2: 0 })\n",
        "db_df = db_df[db_df._VEGLT1 != 9]\n",
        "db_df._VEGLT1.unique()"
      ]
    },
    {
      "cell_type": "code",
      "execution_count": null,
      "metadata": {
        "id": "1mL5FUqebBSg"
      },
      "outputs": [],
      "source": [
        "db_df['ALCDAY5'].unique()\n",
        "#checking what values the alcohol column contains. Again, gets rid of\n",
        "#don't know and refused rows, and maps no drinks to 0 and drinks in the last 30 days to 1"
      ]
    },
    {
      "cell_type": "code",
      "execution_count": null,
      "metadata": {
        "id": "0zsK2y739Vbp"
      },
      "outputs": [],
      "source": [
        "db_df['ALCDAY5'] = db_df['ALCDAY5'].replace({ 888: 0 })\n",
        "db_df['ALCDAY5'] = db_df['ALCDAY5'].apply(lambda x: 1 if x >= 100 and x <= 300 else x)\n",
        "db_df = db_df[db_df.ALCDAY5 != 777]\n",
        "db_df = db_df[db_df.ALCDAY5 != 999]\n",
        "db_df.ALCDAY5.unique()"
      ]
    },
    {
      "cell_type": "code",
      "execution_count": null,
      "metadata": {
        "id": "he3VQkX9cN9O"
      },
      "outputs": [],
      "source": [
        "db_df['HLTHPLN1'].unique()\n",
        "#checking what values the health plan column contains. Again, gets rid of\n",
        "#don't know and refused rows, and maps no health care to 0 and health care to 1"
      ]
    },
    {
      "cell_type": "code",
      "execution_count": null,
      "metadata": {
        "id": "C7EB6L4T9ZN4"
      },
      "outputs": [],
      "source": [
        "db_df['HLTHPLN1'] = db_df['HLTHPLN1'].replace({ 2: 0 })\n",
        "db_df = db_df[db_df.HLTHPLN1 != 7]\n",
        "db_df = db_df[db_df.HLTHPLN1 != 9]\n",
        "db_df.HLTHPLN1.unique()"
      ]
    },
    {
      "cell_type": "code",
      "execution_count": null,
      "metadata": {
        "id": "_Niklt5OcsLb"
      },
      "outputs": [],
      "source": [
        "db_df['MEDCOST'].unique()\n",
        "#checking what values the doctor because of cost column contains. Again, gets rid of\n",
        "#don't know and refused rows, and maps no doctor because of cost to 0 and doctor to 1"
      ]
    },
    {
      "cell_type": "code",
      "execution_count": null,
      "metadata": {
        "id": "d2NkNCq59cTY"
      },
      "outputs": [],
      "source": [
        "db_df['MEDCOST'] = db_df['MEDCOST'].replace({ 2: 0 })\n",
        "db_df = db_df[db_df.MEDCOST != 7]\n",
        "db_df = db_df[db_df.MEDCOST != 9]\n",
        "db_df.MEDCOST.unique()"
      ]
    },
    {
      "cell_type": "code",
      "execution_count": null,
      "metadata": {
        "id": "sDvrH0t3dCPC"
      },
      "outputs": [],
      "source": [
        "db_df['GENHLTH'].unique()\n",
        "#checking what values the general health column contains. Again, gets rid of\n",
        "#don't know and refused rows, but keeps ordinal values of 1-5 (meaning excellent to poor)"
      ]
    },
    {
      "cell_type": "code",
      "execution_count": null,
      "metadata": {
        "id": "DCmqr1mw9epr"
      },
      "outputs": [],
      "source": [
        "db_df = db_df[db_df.GENHLTH != 7]\n",
        "db_df = db_df[db_df.GENHLTH != 9]\n",
        "db_df.GENHLTH.unique()"
      ]
    },
    {
      "cell_type": "code",
      "execution_count": null,
      "metadata": {
        "id": "g-wQhoQCdT86"
      },
      "outputs": [],
      "source": [
        "db_df['MENTHLTH'].unique()\n",
        "#checking what values the mental health column contains. Again, gets rid of\n",
        "#don't know and refused rows, but keeps ordinal values of 0-30 (meaning number of bad mental\n",
        "#health days in the last month), has to map 88 to 0 for no bad days"
      ]
    },
    {
      "cell_type": "code",
      "execution_count": null,
      "metadata": {
        "id": "SWRtDniz9hcT"
      },
      "outputs": [],
      "source": [
        "db_df['MENTHLTH'] = db_df['MENTHLTH'].replace({ 88: 0 })\n",
        "db_df = db_df[db_df.MENTHLTH != 77]\n",
        "db_df = db_df[db_df.MENTHLTH != 99]\n",
        "db_df.MENTHLTH.unique()"
      ]
    },
    {
      "cell_type": "code",
      "execution_count": null,
      "metadata": {
        "id": "m_U8rAmXfmJH"
      },
      "outputs": [],
      "source": [
        "db_df['PHYSHLTH'].unique()\n",
        "#checking what values the physical health column contains. Again, gets rid of\n",
        "#don't know and refused rows, but keeps ordinal values of 0-30 (meaning number of days exercised in the last month), has to map 88 to 0 for no bad days"
      ]
    },
    {
      "cell_type": "code",
      "execution_count": null,
      "metadata": {
        "id": "my6XVTgL9jyK"
      },
      "outputs": [],
      "source": [
        "db_df['PHYSHLTH'] = db_df['PHYSHLTH'].replace({ 88: 0 })\n",
        "db_df = db_df[db_df.PHYSHLTH != 77]\n",
        "db_df = db_df[db_df.PHYSHLTH != 99]\n",
        "db_df.PHYSHLTH.unique()"
      ]
    },
    {
      "cell_type": "code",
      "execution_count": null,
      "metadata": {
        "id": "fgVN8OiIf3gn"
      },
      "outputs": [],
      "source": [
        "db_df['DIFFWALK'].unique()\n",
        "#checking what values the difficulty walking column contains. Again, gets rid of\n",
        "#don't know and refused rows, but maps difficulty walking to 1 and no difficulty to 0"
      ]
    },
    {
      "cell_type": "code",
      "execution_count": null,
      "metadata": {
        "id": "oDmADdGNf_Lg"
      },
      "outputs": [],
      "source": [
        "db_df['DIFFWALK'] = db_df['DIFFWALK'].replace({ 2: 0 })\n",
        "db_df = db_df[db_df.DIFFWALK != 7]\n",
        "db_df = db_df[db_df.DIFFWALK != 9]\n",
        "db_df.DIFFWALK.unique()"
      ]
    },
    {
      "cell_type": "code",
      "execution_count": null,
      "metadata": {
        "id": "xZn9V0c3gFMR"
      },
      "outputs": [],
      "source": [
        "db_df['SEX'].unique()\n",
        "#checking what values the sex column contains. Maps difficulty walking to 1 and no difficulty to 0"
      ]
    },
    {
      "cell_type": "code",
      "execution_count": null,
      "metadata": {
        "id": "hpe9XbsJhG9H"
      },
      "outputs": [],
      "source": [
        "db_df['SEX'] = db_df['SEX'].replace({ 2: 'male', 1: 'female' })\n",
        "db_df['SEX'].unique()"
      ]
    },
    {
      "cell_type": "code",
      "execution_count": null,
      "metadata": {
        "id": "qdv7ySG7gwd-"
      },
      "outputs": [],
      "source": [
        "db_df = pd.get_dummies(db_df, columns=['SEX'])"
      ]
    },
    {
      "cell_type": "code",
      "execution_count": null,
      "metadata": {
        "id": "uPZ2SupLi9zH"
      },
      "outputs": [],
      "source": [
        "db_df['SEX_female'] = db_df['SEX_female'].astype(float)\n",
        "db_df['SEX_male'] = db_df['SEX_male'].astype(float)"
      ]
    },
    {
      "cell_type": "code",
      "execution_count": null,
      "metadata": {
        "id": "ZaKxw6A6h8nF"
      },
      "outputs": [],
      "source": [
        "db_df.head()"
      ]
    },
    {
      "cell_type": "code",
      "execution_count": null,
      "metadata": {
        "id": "jOatQPicjQNB"
      },
      "outputs": [],
      "source": [
        "db_df['_AGEG5YR'].unique()\n",
        "#checking what values the age column contains. Already contains ordinal values, so just removes\n",
        "#14 because it stands for don't know/missing"
      ]
    },
    {
      "cell_type": "code",
      "execution_count": null,
      "metadata": {
        "id": "41lxsVwJjg5Q"
      },
      "outputs": [],
      "source": [
        "db_df = db_df[db_df._AGEG5YR != 14]\n",
        "db_df._AGEG5YR.unique()"
      ]
    },
    {
      "cell_type": "code",
      "execution_count": null,
      "metadata": {
        "id": "ENnuuA1ujlJQ"
      },
      "outputs": [],
      "source": [
        "db_df['EDUCA'].unique()\n",
        "#checking what values the education column contains. Already contains ordinal values from 1-6, so just removes\n",
        "#9 because it stands for refused"
      ]
    },
    {
      "cell_type": "code",
      "execution_count": null,
      "metadata": {
        "id": "Q1iZqtd9jvKj"
      },
      "outputs": [],
      "source": [
        "db_df = db_df[db_df.EDUCA != 9]\n",
        "db_df.EDUCA.unique()"
      ]
    },
    {
      "cell_type": "code",
      "execution_count": null,
      "metadata": {
        "id": "ET1sXaQAjzFG"
      },
      "outputs": [],
      "source": [
        "db_df['INCOME2'].unique()\n",
        "#checking what values the income column contains. Already contains ordinal values from 1-8, so just removes\n",
        "#99 and 77 because it stands for refused/don't know"
      ]
    },
    {
      "cell_type": "code",
      "execution_count": null,
      "metadata": {
        "id": "ApJg7iRo9qlk"
      },
      "outputs": [],
      "source": [
        "db_df = db_df[db_df.INCOME2 != 77]\n",
        "db_df = db_df[db_df.INCOME2 != 99]\n",
        "db_df.INCOME2.unique()"
      ]
    },
    {
      "cell_type": "code",
      "execution_count": null,
      "metadata": {
        "id": "ZcYJ4g5MBIN0"
      },
      "outputs": [],
      "source": [
        "#rename the columns\n",
        "db_df = db_df.rename(columns = {'DIABETE3':'diabetes',\n",
        "                                         '_RFHYPE5':'high_bp',\n",
        "                                         'TOLDHI2':'high_chol',\n",
        "                                          '_CHOLCHK':'chol_check',\n",
        "                                         '_BMI5':'bmi',\n",
        "                                         'SMOKE100':'smoker',\n",
        "                                         'CVDSTRK3':'stroke',\n",
        "                                          'CVDCRHD4':'heart_disease_or_attack',\n",
        "                                         '_TOTINDA':'phys_activity',\n",
        "                                         '_FRTLT1':'fruits',\n",
        "                                          '_VEGLT1':\"veggies\",\n",
        "                                         'ALCDAY5':'hvy_alc_consump',\n",
        "                                         'HLTHPLN1':'healthcare',\n",
        "                                          'MEDCOST':'no_doc_because_cost',\n",
        "                                         'GENHLTH':'gen_health',\n",
        "                                          'MENTHLTH':'mental_health',\n",
        "                                          'PHYSHLTH':'phy_health',\n",
        "                                          'DIFFWALK':'diff_walking',\n",
        "                                         'SEX_male':'male',\n",
        "                                          'SEX_female': 'female',\n",
        "                                          '_AGEG5YR':'age',\n",
        "                                          'EDUCA':'education',\n",
        "                                          'INCOME2':'income' })"
      ]
    },
    {
      "cell_type": "code",
      "execution_count": null,
      "metadata": {
        "id": "cuJp5OgyEPVz"
      },
      "outputs": [],
      "source": [
        "db_df.head()"
      ]
    },
    {
      "cell_type": "code",
      "execution_count": null,
      "metadata": {
        "id": "TkMaVEQWk0eE"
      },
      "outputs": [],
      "source": [
        "db_df = db_df.copy()"
      ]
    },
    {
      "cell_type": "markdown",
      "metadata": {
        "id": "Pv_h2YRCr9S0"
      },
      "source": [
        "# EDA\n",
        "Now that the data is in a more readable format, we can do some analysis on it to decide what we have to consider when making our model."
      ]
    },
    {
      "cell_type": "code",
      "execution_count": null,
      "metadata": {
        "id": "9cex66bWIING"
      },
      "outputs": [],
      "source": [
        "classes = db_df['diabetes'].value_counts()\n",
        "\n",
        "bars = plt.bar(classes.index, classes.values, color=['firebrick', 'royalblue'], alpha=0.8)\n",
        "\n",
        "plt.title(\"Class Imbalance in Target Variable\")\n",
        "plt.xlabel(\"Presence of Diabetes/Prediabetes\")\n",
        "plt.ylabel(\"Number of Observations\")\n",
        "plt.xticks(classes.index, [\"No\", \"Yes\"])\n",
        "\n",
        "for bar in bars:\n",
        "    height = bar.get_height()\n",
        "    plt.text(bar.get_x() + bar.get_width() / 2.0, height, int(height), ha='center', va='bottom')\n",
        "\n",
        "\n",
        "plt.show()"
      ]
    },
    {
      "cell_type": "markdown",
      "metadata": {
        "id": "GP0_f4-IsTtj"
      },
      "source": [
        "This bar chart shoes the class imbalance of this dataset, as there are many more people without diabetes than with. This means that we will have to be sure to make train-test splits with equal distributions of diabetes."
      ]
    },
    {
      "cell_type": "markdown",
      "metadata": {
        "id": "d4jVSm0xpMBx"
      },
      "source": [
        "Graph visualizes the distribution of"
      ]
    },
    {
      "cell_type": "code",
      "execution_count": null,
      "metadata": {
        "id": "53iaSm0rovMs"
      },
      "outputs": [],
      "source": [
        "corr_mx = db_df.corr()\n",
        "\n",
        "plt.figure(figsize=(10, 8))\n",
        "\n",
        "sns.heatmap(corr_mx, cmap=\"coolwarm\", annot=True, fmt=\".1f\", linewidths=0.5)\n",
        "\n",
        "plt.title('Correlation Heatmap of Predictor Variables')\n",
        "\n",
        "plt.show()"
      ]
    },
    {
      "cell_type": "markdown",
      "metadata": {
        "id": "J64gl0cvsiZ-"
      },
      "source": [
        "This correlation heatmap shows the correlation between every variable and every other variable. Since some of the variables are somewhat correlated with each other, like education and income, it may be smart to use some kind of dimensionality reduction like PCA if we use a model susceptible to overfitting by multicolinearity, like a decision tree."
      ]
    },
    {
      "cell_type": "code",
      "execution_count": null,
      "metadata": {
        "id": "50IdiYbZF5HF"
      },
      "outputs": [],
      "source": [
        "scaled_features = ['bmi', 'gen_health', 'mental_health', 'phy_health', 'age', 'education', 'income']\n",
        "\n",
        "plt.figure(figsize=(12, 10))\n",
        "\n",
        "for i, column in enumerate(scaled_features):\n",
        "    value_counts = db_df[column].value_counts()\n",
        "\n",
        "    plt.subplot(3, 3, i + 1)\n",
        "    plt.bar(value_counts.index, value_counts.values)\n",
        "    plt.title(f'Bar Histogram of {column}')\n",
        "    plt.xlabel(column)\n",
        "    plt.ylabel('Frequency')\n",
        "\n",
        "plt.subplots_adjust(hspace=0.5, wspace=0.5)\n",
        "\n",
        "plt.show()"
      ]
    },
    {
      "cell_type": "markdown",
      "metadata": {
        "id": "YmuvuzY5tAaz"
      },
      "source": [
        "This chart shows a histogram for every ordinal feature so we can vizualise their distributions. Some of them have very skewed distributions, like physical health, and they range quite a lot in their scale, so it may be a good idea to scale the features down if we are going to use a scale-variant method such as PCA."
      ]
    },
    {
      "cell_type": "code",
      "execution_count": null,
      "metadata": {
        "id": "CAqAcCRMds69"
      },
      "outputs": [],
      "source": [
        "scaler = StandardScaler()\n",
        "\n",
        "db_df[scaled_features] = scaler.fit_transform(db_df[scaled_features])\n",
        "\n",
        "db_df"
      ]
    },
    {
      "cell_type": "code",
      "execution_count": null,
      "metadata": {
        "id": "_5twje2wosrN"
      },
      "outputs": [],
      "source": [
        "X = db_df.drop(columns=\"diabetes\")\n",
        "y = db_df['diabetes']\n",
        "\n",
        "pca = PCA()\n",
        "X_pca = pca.fit_transform(X)\n",
        "\n",
        "explained_variance_ratio = pca.explained_variance_ratio_\n",
        "cumulative_variance_ratio = np.cumsum(explained_variance_ratio)\n",
        "\n",
        "plt.figure(figsize=(10, 6))\n",
        "plt.plot(range(1, len(explained_variance_ratio) + 1), cumulative_variance_ratio, marker='o', linestyle='-')\n",
        "plt.xlabel('Number of Principal Components')\n",
        "plt.ylabel('Cumulative Explained Variance Ratio')\n",
        "plt.title('Explained Variance Ratio by Number of Principal Components')\n",
        "plt.grid(True)\n",
        "plt.show()"
      ]
    },
    {
      "cell_type": "markdown",
      "metadata": {
        "id": "DgKHApFeH5Ea"
      },
      "source": [
        "We tried using PCA to eliminate the correlation between correlated variables, but it ended up producing weird results, so we ended up not using it."
      ]
    },
    {
      "cell_type": "code",
      "execution_count": null,
      "metadata": {
        "id": "-NuSczMheq8m"
      },
      "outputs": [],
      "source": [
        "\n",
        "seed = 12345\n",
        "\n",
        "X_train, X_test, y_train, y_test = train_test_split(X, y, test_size=0.2, stratify=y, random_state=seed, shuffle=True)"
      ]
    },
    {
      "cell_type": "markdown",
      "metadata": {
        "id": "gmRNnkpJQQiX"
      },
      "source": [
        "Logistic Regression\n",
        "Our baseline model was a logistic regression model, as it is a simple way to do classification and we have experience using it from the last homework. We used it both with and without the class_weight='balanced' parameter, which would make sure that there was a balanced amount of diabetes and no diabetes in the training model, to see which was better."
      ]
    },
    {
      "cell_type": "code",
      "execution_count": null,
      "metadata": {
        "id": "Pr-4oJvHfLkG"
      },
      "outputs": [],
      "source": [
        "lrg = LogisticRegression(class_weight='balanced')\n",
        "lrg.fit(X_train, y_train)\n",
        "\n",
        "lrg_unweighted = LogisticRegression()\n",
        "lrg_unweighted.fit(X_train, y_train)"
      ]
    },
    {
      "cell_type": "code",
      "execution_count": null,
      "metadata": {
        "id": "Q6WC5Qarfc67"
      },
      "outputs": [],
      "source": [
        "lrg_test_pred = lrg.predict(X_test)\n",
        "lrg_train_pred = lrg.predict(X_train)\n",
        "\n",
        "lrg_unweighted_test_pred = lrg_unweighted.predict(X_test)\n",
        "lrg_unweighted_train_pred = lrg_unweighted.predict(X_train)"
      ]
    },
    {
      "cell_type": "code",
      "execution_count": null,
      "metadata": {
        "id": "tHwk6dj8fmAn"
      },
      "outputs": [],
      "source": [
        "lrg_train_acc = accuracy_score(y_train, lrg_train_pred)\n",
        "lrg_test_acc = accuracy_score(y_test, lrg_test_pred)\n",
        "lrg_train_rec = recall_score(y_train, lrg_train_pred)\n",
        "lrg_test_rec = recall_score(y_test, lrg_test_pred)\n",
        "lrg_train_pre = precision_score(y_train, lrg_train_pred)\n",
        "lrg_test_pre = precision_score(y_test, lrg_test_pred)\n",
        "\n",
        "print('Weighted Logistic Regression')\n",
        "print(f'Training Accuracy: {lrg_train_acc*100:.2f}%')\n",
        "print(f'Testing Accuracy: {lrg_test_acc*100:.2f}%')\n",
        "print(f'Training Recall: {lrg_train_rec*100:.2f}%')\n",
        "print(f'Testing Recall: {lrg_test_rec*100:.2f}%')\n",
        "print(f'Training Precision: {lrg_train_pre*100:.2f}%')\n",
        "print(f'Testing Precision: {lrg_test_pre*100:.2f}%')\n",
        "\n",
        "lrg_unweighted_train_acc = accuracy_score(y_train, lrg_unweighted_train_pred)\n",
        "lrg_unweighted_test_acc = accuracy_score(y_test, lrg_unweighted_test_pred)\n",
        "lrg_unweighted_train_rec = recall_score(y_train, lrg_unweighted_train_pred)\n",
        "lrg_unweighted_test_rec = recall_score(y_test, lrg_unweighted_test_pred)\n",
        "lrg_unweighted_train_pre = precision_score(y_train, lrg_unweighted_train_pred)\n",
        "lrg_unweighted_test_pre = precision_score(y_test, lrg_unweighted_test_pred)\n",
        "\n",
        "print()\n",
        "print('Unweighted Logistic Regression')\n",
        "print(f'Training Accuracy: {lrg_unweighted_train_acc*100:.2f}%')\n",
        "print(f'Testing Accuracy: {lrg_unweighted_test_acc*100:.2f}%')\n",
        "print(f'Training Recall: {lrg_unweighted_train_rec*100:.2f}%')\n",
        "print(f'Testing Recall: {lrg_unweighted_test_rec*100:.2f}%')\n",
        "print(f'Training Precision: {lrg_unweighted_train_pre*100:.2f}%')\n",
        "print(f'Testing Precision: {lrg_unweighted_test_pre*100:.2f}%')\n",
        "\n",
        "lrg_train_mx = confusion_matrix(y_train, lrg_train_pred)\n",
        "print(lrg_train_mx)\n",
        "lrg_test_mx = confusion_matrix(y_test, lrg_test_pred)\n",
        "print(lrg_test_mx)\n",
        "\n",
        "lrg_unweighted_train_mx = confusion_matrix(y_train, lrg_unweighted_train_pred)\n",
        "print(lrg_unweighted_train_mx)\n",
        "lrg_unweighted_test_mx = confusion_matrix(y_test, lrg_unweighted_test_pred)\n",
        "print(lrg_unweighted_test_mx)"
      ]
    },
    {
      "cell_type": "markdown",
      "metadata": {
        "id": "fbMU1X_kQ-M6"
      },
      "source": [
        "The results showed that while the unweighted had higher accuracy, the weighted had much higher recall. In the context of medicine, recall is more important because it is much better to have false positives than false negatives. We will now perform grid search on both the balanced and unbalanced class weight and different values of C."
      ]
    },
    {
      "cell_type": "code",
      "execution_count": null,
      "metadata": {
        "colab": {
          "background_save": true,
          "base_uri": "https://localhost:8080/"
        },
        "id": "eqQdFDGo8vjl",
        "outputId": "0407c311-576f-49a1-88ef-2789ed9f2f2e"
      },
      "outputs": [
        {
          "name": "stdout",
          "output_type": "stream",
          "text": [
            "Fitting 5 folds for each of 12 candidates, totalling 60 fits\n",
            "[CV] END ..........................C=0.01, class_weight=None; total time=   5.2s\n",
            "[CV] END ..........................C=0.01, class_weight=None; total time=  11.3s\n",
            "[CV] END ..........................C=0.01, class_weight=None; total time=   9.7s\n",
            "[CV] END ..........................C=0.01, class_weight=None; total time=   4.6s\n",
            "[CV] END ..........................C=0.01, class_weight=None; total time=   3.9s\n",
            "[CV] END ......................C=0.01, class_weight=balanced; total time=   3.6s\n",
            "[CV] END ......................C=0.01, class_weight=balanced; total time=   2.3s\n",
            "[CV] END ......................C=0.01, class_weight=balanced; total time=   2.4s\n",
            "[CV] END ......................C=0.01, class_weight=balanced; total time=   3.4s\n",
            "[CV] END ......................C=0.01, class_weight=balanced; total time=   4.0s\n",
            "[CV] END ...........................C=0.1, class_weight=None; total time=  22.0s\n",
            "[CV] END ...........................C=0.1, class_weight=None; total time=  21.2s\n",
            "[CV] END ...........................C=0.1, class_weight=None; total time=  18.8s\n",
            "[CV] END ...........................C=0.1, class_weight=None; total time=  19.8s\n",
            "[CV] END ...........................C=0.1, class_weight=None; total time=  20.1s\n",
            "[CV] END .......................C=0.1, class_weight=balanced; total time=  48.3s\n",
            "[CV] END .......................C=0.1, class_weight=balanced; total time=  27.2s\n",
            "[CV] END .......................C=0.1, class_weight=balanced; total time=  35.6s\n",
            "[CV] END .......................C=0.1, class_weight=balanced; total time=  28.4s\n",
            "[CV] END .......................C=0.1, class_weight=balanced; total time=  24.7s\n",
            "[CV] END ..........................C=0.25, class_weight=None; total time=  40.6s\n",
            "[CV] END ..........................C=0.25, class_weight=None; total time= 1.0min\n",
            "[CV] END ..........................C=0.25, class_weight=None; total time=  55.6s\n",
            "[CV] END ..........................C=0.25, class_weight=None; total time=  41.2s\n",
            "[CV] END ..........................C=0.25, class_weight=None; total time=  39.4s\n",
            "[CV] END ......................C=0.25, class_weight=balanced; total time=  33.6s\n",
            "[CV] END ......................C=0.25, class_weight=balanced; total time=  35.5s\n",
            "[CV] END ......................C=0.25, class_weight=balanced; total time=  35.3s\n",
            "[CV] END ......................C=0.25, class_weight=balanced; total time=  29.1s\n",
            "[CV] END ......................C=0.25, class_weight=balanced; total time=  27.0s\n",
            "[CV] END ...........................C=0.5, class_weight=None; total time= 1.0min\n",
            "[CV] END ...........................C=0.5, class_weight=None; total time=  58.3s\n",
            "[CV] END ...........................C=0.5, class_weight=None; total time= 1.0min\n",
            "[CV] END ...........................C=0.5, class_weight=None; total time= 1.0min\n",
            "[CV] END ...........................C=0.5, class_weight=None; total time=  52.8s\n",
            "[CV] END .......................C=0.5, class_weight=balanced; total time=  56.1s\n",
            "[CV] END .......................C=0.5, class_weight=balanced; total time=  54.6s\n",
            "[CV] END .......................C=0.5, class_weight=balanced; total time=  48.0s\n",
            "[CV] END .......................C=0.5, class_weight=balanced; total time=  52.3s\n",
            "[CV] END .......................C=0.5, class_weight=balanced; total time=  54.8s\n",
            "[CV] END ..........................C=0.75, class_weight=None; total time= 1.4min\n",
            "[CV] END ..........................C=0.75, class_weight=None; total time= 1.2min\n",
            "[CV] END ..........................C=0.75, class_weight=None; total time= 1.5min\n",
            "[CV] END ..........................C=0.75, class_weight=None; total time= 1.2min\n",
            "[CV] END ..........................C=0.75, class_weight=None; total time= 1.4min\n",
            "[CV] END ......................C=0.75, class_weight=balanced; total time= 1.1min\n",
            "[CV] END ......................C=0.75, class_weight=balanced; total time= 1.2min\n",
            "[CV] END ......................C=0.75, class_weight=balanced; total time= 1.2min\n",
            "[CV] END ......................C=0.75, class_weight=balanced; total time= 1.1min\n",
            "[CV] END ......................C=0.75, class_weight=balanced; total time= 1.1min\n",
            "[CV] END ...........................C=1.0, class_weight=None; total time= 1.7min\n",
            "[CV] END ...........................C=1.0, class_weight=None; total time= 1.7min\n",
            "[CV] END ...........................C=1.0, class_weight=None; total time= 1.8min\n",
            "[CV] END ...........................C=1.0, class_weight=None; total time= 1.6min\n",
            "[CV] END ...........................C=1.0, class_weight=None; total time= 1.6min\n",
            "[CV] END .......................C=1.0, class_weight=balanced; total time= 1.4min\n",
            "[CV] END .......................C=1.0, class_weight=balanced; total time= 1.4min\n",
            "[CV] END .......................C=1.0, class_weight=balanced; total time= 1.5min\n",
            "[CV] END .......................C=1.0, class_weight=balanced; total time= 1.4min\n",
            "[CV] END .......................C=1.0, class_weight=balanced; total time= 1.4min\n"
          ]
        },
        {
          "data": {
            "text/html": [
              "<style>#sk-container-id-2 {color: black;background-color: white;}#sk-container-id-2 pre{padding: 0;}#sk-container-id-2 div.sk-toggleable {background-color: white;}#sk-container-id-2 label.sk-toggleable__label {cursor: pointer;display: block;width: 100%;margin-bottom: 0;padding: 0.3em;box-sizing: border-box;text-align: center;}#sk-container-id-2 label.sk-toggleable__label-arrow:before {content: \"▸\";float: left;margin-right: 0.25em;color: #696969;}#sk-container-id-2 label.sk-toggleable__label-arrow:hover:before {color: black;}#sk-container-id-2 div.sk-estimator:hover label.sk-toggleable__label-arrow:before {color: black;}#sk-container-id-2 div.sk-toggleable__content {max-height: 0;max-width: 0;overflow: hidden;text-align: left;background-color: #f0f8ff;}#sk-container-id-2 div.sk-toggleable__content pre {margin: 0.2em;color: black;border-radius: 0.25em;background-color: #f0f8ff;}#sk-container-id-2 input.sk-toggleable__control:checked~div.sk-toggleable__content {max-height: 200px;max-width: 100%;overflow: auto;}#sk-container-id-2 input.sk-toggleable__control:checked~label.sk-toggleable__label-arrow:before {content: \"▾\";}#sk-container-id-2 div.sk-estimator input.sk-toggleable__control:checked~label.sk-toggleable__label {background-color: #d4ebff;}#sk-container-id-2 div.sk-label input.sk-toggleable__control:checked~label.sk-toggleable__label {background-color: #d4ebff;}#sk-container-id-2 input.sk-hidden--visually {border: 0;clip: rect(1px 1px 1px 1px);clip: rect(1px, 1px, 1px, 1px);height: 1px;margin: -1px;overflow: hidden;padding: 0;position: absolute;width: 1px;}#sk-container-id-2 div.sk-estimator {font-family: monospace;background-color: #f0f8ff;border: 1px dotted black;border-radius: 0.25em;box-sizing: border-box;margin-bottom: 0.5em;}#sk-container-id-2 div.sk-estimator:hover {background-color: #d4ebff;}#sk-container-id-2 div.sk-parallel-item::after {content: \"\";width: 100%;border-bottom: 1px solid gray;flex-grow: 1;}#sk-container-id-2 div.sk-label:hover label.sk-toggleable__label {background-color: #d4ebff;}#sk-container-id-2 div.sk-serial::before {content: \"\";position: absolute;border-left: 1px solid gray;box-sizing: border-box;top: 0;bottom: 0;left: 50%;z-index: 0;}#sk-container-id-2 div.sk-serial {display: flex;flex-direction: column;align-items: center;background-color: white;padding-right: 0.2em;padding-left: 0.2em;position: relative;}#sk-container-id-2 div.sk-item {position: relative;z-index: 1;}#sk-container-id-2 div.sk-parallel {display: flex;align-items: stretch;justify-content: center;background-color: white;position: relative;}#sk-container-id-2 div.sk-item::before, #sk-container-id-2 div.sk-parallel-item::before {content: \"\";position: absolute;border-left: 1px solid gray;box-sizing: border-box;top: 0;bottom: 0;left: 50%;z-index: -1;}#sk-container-id-2 div.sk-parallel-item {display: flex;flex-direction: column;z-index: 1;position: relative;background-color: white;}#sk-container-id-2 div.sk-parallel-item:first-child::after {align-self: flex-end;width: 50%;}#sk-container-id-2 div.sk-parallel-item:last-child::after {align-self: flex-start;width: 50%;}#sk-container-id-2 div.sk-parallel-item:only-child::after {width: 0;}#sk-container-id-2 div.sk-dashed-wrapped {border: 1px dashed gray;margin: 0 0.4em 0.5em 0.4em;box-sizing: border-box;padding-bottom: 0.4em;background-color: white;}#sk-container-id-2 div.sk-label label {font-family: monospace;font-weight: bold;display: inline-block;line-height: 1.2em;}#sk-container-id-2 div.sk-label-container {text-align: center;}#sk-container-id-2 div.sk-container {/* jupyter's `normalize.less` sets `[hidden] { display: none; }` but bootstrap.min.css set `[hidden] { display: none !important; }` so we also need the `!important` here to be able to override the default hidden behavior on the sphinx rendered scikit-learn.org. See: https://github.com/scikit-learn/scikit-learn/issues/21755 */display: inline-block !important;position: relative;}#sk-container-id-2 div.sk-text-repr-fallback {display: none;}</style><div id=\"sk-container-id-2\" class=\"sk-top-container\"><div class=\"sk-text-repr-fallback\"><pre>GridSearchCV(cv=StratifiedKFold(n_splits=5, random_state=12345, shuffle=True),\n",
              "             estimator=LogisticRegression(max_iter=1000, solver=&#x27;saga&#x27;),\n",
              "             param_grid={&#x27;C&#x27;: [0.01, 0.1, 0.25, 0.5, 0.75, 1.0],\n",
              "                         &#x27;class_weight&#x27;: [None, &#x27;balanced&#x27;]},\n",
              "             scoring=&#x27;recall&#x27;, verbose=2)</pre><b>In a Jupyter environment, please rerun this cell to show the HTML representation or trust the notebook. <br />On GitHub, the HTML representation is unable to render, please try loading this page with nbviewer.org.</b></div><div class=\"sk-container\" hidden><div class=\"sk-item sk-dashed-wrapped\"><div class=\"sk-label-container\"><div class=\"sk-label sk-toggleable\"><input class=\"sk-toggleable__control sk-hidden--visually\" id=\"sk-estimator-id-2\" type=\"checkbox\" ><label for=\"sk-estimator-id-2\" class=\"sk-toggleable__label sk-toggleable__label-arrow\">GridSearchCV</label><div class=\"sk-toggleable__content\"><pre>GridSearchCV(cv=StratifiedKFold(n_splits=5, random_state=12345, shuffle=True),\n",
              "             estimator=LogisticRegression(max_iter=1000, solver=&#x27;saga&#x27;),\n",
              "             param_grid={&#x27;C&#x27;: [0.01, 0.1, 0.25, 0.5, 0.75, 1.0],\n",
              "                         &#x27;class_weight&#x27;: [None, &#x27;balanced&#x27;]},\n",
              "             scoring=&#x27;recall&#x27;, verbose=2)</pre></div></div></div><div class=\"sk-parallel\"><div class=\"sk-parallel-item\"><div class=\"sk-item\"><div class=\"sk-label-container\"><div class=\"sk-label sk-toggleable\"><input class=\"sk-toggleable__control sk-hidden--visually\" id=\"sk-estimator-id-3\" type=\"checkbox\" ><label for=\"sk-estimator-id-3\" class=\"sk-toggleable__label sk-toggleable__label-arrow\">estimator: LogisticRegression</label><div class=\"sk-toggleable__content\"><pre>LogisticRegression(max_iter=1000, solver=&#x27;saga&#x27;)</pre></div></div></div><div class=\"sk-serial\"><div class=\"sk-item\"><div class=\"sk-estimator sk-toggleable\"><input class=\"sk-toggleable__control sk-hidden--visually\" id=\"sk-estimator-id-4\" type=\"checkbox\" ><label for=\"sk-estimator-id-4\" class=\"sk-toggleable__label sk-toggleable__label-arrow\">LogisticRegression</label><div class=\"sk-toggleable__content\"><pre>LogisticRegression(max_iter=1000, solver=&#x27;saga&#x27;)</pre></div></div></div></div></div></div></div></div></div></div>"
            ],
            "text/plain": [
              "GridSearchCV(cv=StratifiedKFold(n_splits=5, random_state=12345, shuffle=True),\n",
              "             estimator=LogisticRegression(max_iter=1000, solver='saga'),\n",
              "             param_grid={'C': [0.01, 0.1, 0.25, 0.5, 0.75, 1.0],\n",
              "                         'class_weight': [None, 'balanced']},\n",
              "             scoring='recall', verbose=2)"
            ]
          },
          "execution_count": 72,
          "metadata": {},
          "output_type": "execute_result"
        }
      ],
      "source": [
        "cv = StratifiedKFold(random_state=seed, shuffle=True, n_splits=5)\n",
        "\n",
        "estimator = LogisticRegression(solver='saga', max_iter=1000)\n",
        "\n",
        "param_grid = {\n",
        "    'C': [0.01, 0.1, 0.25, 0.50, 0.75, 1.0],\n",
        "    'class_weight': [None, 'balanced']\n",
        "}\n",
        "\n",
        "scoring = 'recall'\n",
        "\n",
        "search = GridSearchCV(estimator=estimator, param_grid=param_grid, cv=cv, scoring=scoring, verbose=2)\n",
        "\n",
        "search.fit(X_train, y_train)"
      ]
    },
    {
      "cell_type": "code",
      "execution_count": null,
      "metadata": {
        "colab": {
          "background_save": true
        },
        "id": "PsH4KI-19Grg",
        "outputId": "a26a3bb4-7ac8-4e1c-8770-31afda09c7f7"
      },
      "outputs": [
        {
          "name": "stdout",
          "output_type": "stream",
          "text": [
            "The best Logistic Regression model has hyperparameters {'C': 0.25, 'class_weight': 'balanced'}\n",
            "The best model achieves an average cross-validation score of 76.65%\n",
            "The best model achieves a score of 76.18% on the testing data\n"
          ]
        }
      ],
      "source": [
        "print(f'The best Logistic Regression model has hyperparameters {search.best_params_}')\n",
        "print(f'The best model achieves an average cross-validation score of {search.best_score_*100:.2f}%')\n",
        "print(f'The best model achieves a score of {recall_score(y_test, search.best_estimator_.predict(X_test))*100:.2f}% on the testing data')"
      ]
    },
    {
      "cell_type": "code",
      "execution_count": null,
      "metadata": {
        "colab": {
          "background_save": true
        },
        "id": "IdOmCG34_Vyx",
        "outputId": "ecda7708-b1ed-4110-8219-d319c5d26d5b"
      },
      "outputs": [
        {
          "data": {
            "image/png": "[encoded data removed]",
            "text/plain": [
              "<Figure size 640x480 with 1 Axes>"
            ]
          },
          "metadata": {},
          "output_type": "display_data"
        }
      ],
      "source": [
        "feature_importances = lrg.coef_[0]\n",
        "feature_columns = db_df.drop(columns=\"diabetes\").columns\n",
        "\n",
        "plt.barh(feature_columns, feature_importances)\n",
        "plt.xlabel('Coefficient')\n",
        "plt.ylabel('Feature')\n",
        "plt.title('Coefficients from Logistic Regression')\n",
        "plt.show()"
      ]
    },
    {
      "cell_type": "markdown",
      "metadata": {
        "id": "r2KJ_0INR07G"
      },
      "source": [
        "The next model we used was a decision tree, since it would allow us to better examine the feature importances. We again used class_weight='balanced', and tested the accuracy, recall, and precision on the test and training data. We performed grid search for hyperparameter tuning again, varying the max_depth, min_samples_split, and min_samples_leaf"
      ]
    },
    {
      "cell_type": "code",
      "execution_count": null,
      "metadata": {
        "colab": {
          "background_save": true
        },
        "id": "KRlEYzHC-Brc"
      },
      "outputs": [],
      "source": [
        "dt_classifier = DecisionTreeClassifier(class_weight='balanced')\n",
        "\n",
        "dt_classifier.fit(X_train, y_train)\n",
        "\n",
        "test_pred = dt_classifier.predict(X_test)\n",
        "train_pred = dt_classifier.predict(X_train)"
      ]
    },
    {
      "cell_type": "code",
      "execution_count": null,
      "metadata": {
        "colab": {
          "background_save": true
        },
        "id": "3v9b-c7z-jts",
        "outputId": "da799702-962a-404b-8bf4-12d90f8d4b90"
      },
      "outputs": [
        {
          "name": "stdout",
          "output_type": "stream",
          "text": [
            "\n",
            "Decision Tree Classifier\n",
            "Testing Accuracy: 78.60%\n",
            "Testing Recall: 30.42%\n",
            "Testing Precision: 30.32%\n",
            "Training Accuracy: 99.34%\n",
            "Training Recall: 99.86%\n",
            "Training Precision: 95.99%\n",
            "[[200905   1529]\n",
            " [    52  36623]]\n",
            "[[44199  6410]\n",
            " [ 6380  2789]]\n"
          ]
        }
      ],
      "source": [
        "dt_test_acc = accuracy_score(y_test, test_pred)\n",
        "dt_test_rec = recall_score(y_test, test_pred)\n",
        "dt_test_pre = precision_score(y_test, test_pred)\n",
        "dt_train_acc = accuracy_score(y_train, train_pred)\n",
        "dt_train_rec = recall_score(y_train, train_pred)\n",
        "dt_train_pre = precision_score(y_train, train_pred)\n",
        "\n",
        "print()\n",
        "print('Decision Tree Classifier')\n",
        "print(f'Testing Accuracy: {dt_test_acc*100:.2f}%')\n",
        "print(f'Testing Recall: {dt_test_rec*100:.2f}%')\n",
        "print(f'Testing Precision: {dt_test_pre*100:.2f}%')\n",
        "print(f'Training Accuracy: {dt_train_acc*100:.2f}%')\n",
        "print(f'Training Recall: {dt_train_rec*100:.2f}%')\n",
        "print(f'Training Precision: {dt_train_pre*100:.2f}%')\n",
        "\n",
        "dt_train_mx = confusion_matrix(y_train, train_pred)\n",
        "print(dt_train_mx)\n",
        "dt_test_mx = confusion_matrix(y_test, test_pred)\n",
        "print(dt_test_mx)"
      ]
    },
    {
      "cell_type": "code",
      "execution_count": null,
      "metadata": {
        "colab": {
          "background_save": true
        },
        "id": "VXh_pK7NACPP",
        "outputId": "3c5be8d0-e3bd-4e2d-92c0-e5903b8cf716"
      },
      "outputs": [
        {
          "name": "stdout",
          "output_type": "stream",
          "text": [
            "Fitting 5 folds for each of 45 candidates, totalling 225 fits\n",
            "[CV] END max_depth=None, min_samples_leaf=1, min_samples_split=2; total time=   2.1s\n",
            "[CV] END max_depth=None, min_samples_leaf=1, min_samples_split=2; total time=   2.0s\n",
            "[CV] END max_depth=None, min_samples_leaf=1, min_samples_split=2; total time=   2.1s\n",
            "[CV] END max_depth=None, min_samples_leaf=1, min_samples_split=2; total time=   2.0s\n",
            "[CV] END max_depth=None, min_samples_leaf=1, min_samples_split=2; total time=   1.7s\n",
            "[CV] END max_depth=None, min_samples_leaf=1, min_samples_split=5; total time=   1.3s\n",
            "[CV] END max_depth=None, min_samples_leaf=1, min_samples_split=5; total time=   1.3s\n",
            "[CV] END max_depth=None, min_samples_leaf=1, min_samples_split=5; total time=   1.3s\n",
            "[CV] END max_depth=None, min_samples_leaf=1, min_samples_split=5; total time=   1.3s\n",
            "[CV] END max_depth=None, min_samples_leaf=1, min_samples_split=5; total time=   1.3s\n",
            "[CV] END max_depth=None, min_samples_leaf=1, min_samples_split=10; total time=   1.3s\n",
            "[CV] END max_depth=None, min_samples_leaf=1, min_samples_split=10; total time=   1.3s\n",
            "[CV] END max_depth=None, min_samples_leaf=1, min_samples_split=10; total time=   1.8s\n",
            "[CV] END max_depth=None, min_samples_leaf=1, min_samples_split=10; total time=   1.9s\n",
            "[CV] END max_depth=None, min_samples_leaf=1, min_samples_split=10; total time=   2.0s\n",
            "[CV] END max_depth=None, min_samples_leaf=2, min_samples_split=2; total time=   2.0s\n",
            "[CV] END max_depth=None, min_samples_leaf=2, min_samples_split=2; total time=   2.0s\n",
            "[CV] END max_depth=None, min_samples_leaf=2, min_samples_split=2; total time=   2.0s\n",
            "[CV] END max_depth=None, min_samples_leaf=2, min_samples_split=2; total time=   2.1s\n",
            "[CV] END max_depth=None, min_samples_leaf=2, min_samples_split=2; total time=   2.0s\n",
            "[CV] END max_depth=None, min_samples_leaf=2, min_samples_split=5; total time=   2.0s\n",
            "[CV] END max_depth=None, min_samples_leaf=2, min_samples_split=5; total time=   2.0s\n",
            "[CV] END max_depth=None, min_samples_leaf=2, min_samples_split=5; total time=   2.1s\n",
            "[CV] END max_depth=None, min_samples_leaf=2, min_samples_split=5; total time=   2.0s\n",
            "[CV] END max_depth=None, min_samples_leaf=2, min_samples_split=5; total time=   2.0s\n",
            "[CV] END max_depth=None, min_samples_leaf=2, min_samples_split=10; total time=   2.3s\n",
            "[CV] END max_depth=None, min_samples_leaf=2, min_samples_split=10; total time=   2.0s\n",
            "[CV] END max_depth=None, min_samples_leaf=2, min_samples_split=10; total time=   2.0s\n",
            "[CV] END max_depth=None, min_samples_leaf=2, min_samples_split=10; total time=   2.0s\n",
            "[CV] END max_depth=None, min_samples_leaf=2, min_samples_split=10; total time=   1.9s\n",
            "[CV] END max_depth=None, min_samples_leaf=4, min_samples_split=2; total time=   1.9s\n",
            "[CV] END max_depth=None, min_samples_leaf=4, min_samples_split=2; total time=   1.9s\n",
            "[CV] END max_depth=None, min_samples_leaf=4, min_samples_split=2; total time=   1.9s\n",
            "[CV] END max_depth=None, min_samples_leaf=4, min_samples_split=2; total time=   1.9s\n",
            "[CV] END max_depth=None, min_samples_leaf=4, min_samples_split=2; total time=   1.9s\n",
            "[CV] END max_depth=None, min_samples_leaf=4, min_samples_split=5; total time=   2.0s\n",
            "[CV] END max_depth=None, min_samples_leaf=4, min_samples_split=5; total time=   2.0s\n",
            "[CV] END max_depth=None, min_samples_leaf=4, min_samples_split=5; total time=   2.0s\n",
            "[CV] END max_depth=None, min_samples_leaf=4, min_samples_split=5; total time=   1.9s\n",
            "[CV] END max_depth=None, min_samples_leaf=4, min_samples_split=5; total time=   2.0s\n",
            "[CV] END max_depth=None, min_samples_leaf=4, min_samples_split=10; total time=   2.0s\n",
            "[CV] END max_depth=None, min_samples_leaf=4, min_samples_split=10; total time=   1.9s\n",
            "[CV] END max_depth=None, min_samples_leaf=4, min_samples_split=10; total time=   2.0s\n",
            "[CV] END max_depth=None, min_samples_leaf=4, min_samples_split=10; total time=   1.9s\n",
            "[CV] END max_depth=None, min_samples_leaf=4, min_samples_split=10; total time=   2.0s\n",
            "[CV] END max_depth=10, min_samples_leaf=1, min_samples_split=2; total time=   1.3s\n",
            "[CV] END max_depth=10, min_samples_leaf=1, min_samples_split=2; total time=   1.3s\n",
            "[CV] END max_depth=10, min_samples_leaf=1, min_samples_split=2; total time=   1.3s\n",
            "[CV] END max_depth=10, min_samples_leaf=1, min_samples_split=2; total time=   1.3s\n",
            "[CV] END max_depth=10, min_samples_leaf=1, min_samples_split=2; total time=   0.8s\n",
            "[CV] END max_depth=10, min_samples_leaf=1, min_samples_split=5; total time=   0.8s\n",
            "[CV] END max_depth=10, min_samples_leaf=1, min_samples_split=5; total time=   0.8s\n",
            "[CV] END max_depth=10, min_samples_leaf=1, min_samples_split=5; total time=   0.8s\n",
            "[CV] END max_depth=10, min_samples_leaf=1, min_samples_split=5; total time=   0.8s\n",
            "[CV] END max_depth=10, min_samples_leaf=1, min_samples_split=5; total time=   0.8s\n",
            "[CV] END max_depth=10, min_samples_leaf=1, min_samples_split=10; total time=   0.8s\n",
            "[CV] END max_depth=10, min_samples_leaf=1, min_samples_split=10; total time=   0.8s\n",
            "[CV] END max_depth=10, min_samples_leaf=1, min_samples_split=10; total time=   0.8s\n",
            "[CV] END max_depth=10, min_samples_leaf=1, min_samples_split=10; total time=   0.8s\n",
            "[CV] END max_depth=10, min_samples_leaf=1, min_samples_split=10; total time=   0.8s\n",
            "[CV] END max_depth=10, min_samples_leaf=2, min_samples_split=2; total time=   0.8s\n",
            "[CV] END max_depth=10, min_samples_leaf=2, min_samples_split=2; total time=   1.2s\n",
            "[CV] END max_depth=10, min_samples_leaf=2, min_samples_split=2; total time=   1.2s\n",
            "[CV] END max_depth=10, min_samples_leaf=2, min_samples_split=2; total time=   1.3s\n",
            "[CV] END max_depth=10, min_samples_leaf=2, min_samples_split=2; total time=   1.3s\n",
            "[CV] END max_depth=10, min_samples_leaf=2, min_samples_split=5; total time=   1.3s\n",
            "[CV] END max_depth=10, min_samples_leaf=2, min_samples_split=5; total time=   1.4s\n",
            "[CV] END max_depth=10, min_samples_leaf=2, min_samples_split=5; total time=   1.4s\n",
            "[CV] END max_depth=10, min_samples_leaf=2, min_samples_split=5; total time=   1.4s\n",
            "[CV] END max_depth=10, min_samples_leaf=2, min_samples_split=5; total time=   1.4s\n",
            "[CV] END max_depth=10, min_samples_leaf=2, min_samples_split=10; total time=   1.3s\n",
            "[CV] END max_depth=10, min_samples_leaf=2, min_samples_split=10; total time=   1.4s\n",
            "[CV] END max_depth=10, min_samples_leaf=2, min_samples_split=10; total time=   1.4s\n",
            "[CV] END max_depth=10, min_samples_leaf=2, min_samples_split=10; total time=   1.3s\n",
            "[CV] END max_depth=10, min_samples_leaf=2, min_samples_split=10; total time=   1.3s\n",
            "[CV] END max_depth=10, min_samples_leaf=4, min_samples_split=2; total time=   1.3s\n",
            "[CV] END max_depth=10, min_samples_leaf=4, min_samples_split=2; total time=   1.3s\n",
            "[CV] END max_depth=10, min_samples_leaf=4, min_samples_split=2; total time=   1.4s\n",
            "[CV] END max_depth=10, min_samples_leaf=4, min_samples_split=2; total time=   1.1s\n",
            "[CV] END max_depth=10, min_samples_leaf=4, min_samples_split=2; total time=   0.8s\n",
            "[CV] END max_depth=10, min_samples_leaf=4, min_samples_split=5; total time=   0.8s\n",
            "[CV] END max_depth=10, min_samples_leaf=4, min_samples_split=5; total time=   0.8s\n",
            "[CV] END max_depth=10, min_samples_leaf=4, min_samples_split=5; total time=   0.8s\n",
            "[CV] END max_depth=10, min_samples_leaf=4, min_samples_split=5; total time=   0.8s\n",
            "[CV] END max_depth=10, min_samples_leaf=4, min_samples_split=5; total time=   0.8s\n",
            "[CV] END max_depth=10, min_samples_leaf=4, min_samples_split=10; total time=   0.8s\n",
            "[CV] END max_depth=10, min_samples_leaf=4, min_samples_split=10; total time=   0.8s\n",
            "[CV] END max_depth=10, min_samples_leaf=4, min_samples_split=10; total time=   0.8s\n",
            "[CV] END max_depth=10, min_samples_leaf=4, min_samples_split=10; total time=   0.8s\n",
            "[CV] END max_depth=10, min_samples_leaf=4, min_samples_split=10; total time=   0.8s\n",
            "[CV] END max_depth=20, min_samples_leaf=1, min_samples_split=2; total time=   1.6s\n",
            "[CV] END max_depth=20, min_samples_leaf=1, min_samples_split=2; total time=   2.0s\n",
            "[CV] END max_depth=20, min_samples_leaf=1, min_samples_split=2; total time=   1.9s\n",
            "[CV] END max_depth=20, min_samples_leaf=1, min_samples_split=2; total time=   2.1s\n",
            "[CV] END max_depth=20, min_samples_leaf=1, min_samples_split=2; total time=   2.0s\n",
            "[CV] END max_depth=20, min_samples_leaf=1, min_samples_split=5; total time=   2.1s\n",
            "[CV] END max_depth=20, min_samples_leaf=1, min_samples_split=5; total time=   2.0s\n",
            "[CV] END max_depth=20, min_samples_leaf=1, min_samples_split=5; total time=   2.0s\n",
            "[CV] END max_depth=20, min_samples_leaf=1, min_samples_split=5; total time=   2.0s\n",
            "[CV] END max_depth=20, min_samples_leaf=1, min_samples_split=5; total time=   2.0s\n",
            "[CV] END max_depth=20, min_samples_leaf=1, min_samples_split=10; total time=   1.9s\n",
            "[CV] END max_depth=20, min_samples_leaf=1, min_samples_split=10; total time=   1.9s\n",
            "[CV] END max_depth=20, min_samples_leaf=1, min_samples_split=10; total time=   2.0s\n",
            "[CV] END max_depth=20, min_samples_leaf=1, min_samples_split=10; total time=   2.1s\n",
            "[CV] END max_depth=20, min_samples_leaf=1, min_samples_split=10; total time=   2.0s\n",
            "[CV] END max_depth=20, min_samples_leaf=2, min_samples_split=2; total time=   2.0s\n",
            "[CV] END max_depth=20, min_samples_leaf=2, min_samples_split=2; total time=   2.0s\n",
            "[CV] END max_depth=20, min_samples_leaf=2, min_samples_split=2; total time=   2.0s\n",
            "[CV] END max_depth=20, min_samples_leaf=2, min_samples_split=2; total time=   2.1s\n",
            "[CV] END max_depth=20, min_samples_leaf=2, min_samples_split=2; total time=   2.0s\n",
            "[CV] END max_depth=20, min_samples_leaf=2, min_samples_split=5; total time=   2.0s\n",
            "[CV] END max_depth=20, min_samples_leaf=2, min_samples_split=5; total time=   1.9s\n",
            "[CV] END max_depth=20, min_samples_leaf=2, min_samples_split=5; total time=   2.0s\n",
            "[CV] END max_depth=20, min_samples_leaf=2, min_samples_split=5; total time=   1.5s\n",
            "[CV] END max_depth=20, min_samples_leaf=2, min_samples_split=5; total time=   1.2s\n",
            "[CV] END max_depth=20, min_samples_leaf=2, min_samples_split=10; total time=   1.2s\n",
            "[CV] END max_depth=20, min_samples_leaf=2, min_samples_split=10; total time=   1.2s\n",
            "[CV] END max_depth=20, min_samples_leaf=2, min_samples_split=10; total time=   1.2s\n",
            "[CV] END max_depth=20, min_samples_leaf=2, min_samples_split=10; total time=   1.2s\n",
            "[CV] END max_depth=20, min_samples_leaf=2, min_samples_split=10; total time=   1.3s\n",
            "[CV] END max_depth=20, min_samples_leaf=4, min_samples_split=2; total time=   1.2s\n",
            "[CV] END max_depth=20, min_samples_leaf=4, min_samples_split=2; total time=   1.5s\n",
            "[CV] END max_depth=20, min_samples_leaf=4, min_samples_split=2; total time=   1.8s\n",
            "[CV] END max_depth=20, min_samples_leaf=4, min_samples_split=2; total time=   1.9s\n",
            "[CV] END max_depth=20, min_samples_leaf=4, min_samples_split=2; total time=   1.8s\n",
            "[CV] END max_depth=20, min_samples_leaf=4, min_samples_split=5; total time=   1.9s\n",
            "[CV] END max_depth=20, min_samples_leaf=4, min_samples_split=5; total time=   2.0s\n",
            "[CV] END max_depth=20, min_samples_leaf=4, min_samples_split=5; total time=   1.9s\n",
            "[CV] END max_depth=20, min_samples_leaf=4, min_samples_split=5; total time=   1.9s\n",
            "[CV] END max_depth=20, min_samples_leaf=4, min_samples_split=5; total time=   1.9s\n",
            "[CV] END max_depth=20, min_samples_leaf=4, min_samples_split=10; total time=   1.9s\n",
            "[CV] END max_depth=20, min_samples_leaf=4, min_samples_split=10; total time=   1.9s\n",
            "[CV] END max_depth=20, min_samples_leaf=4, min_samples_split=10; total time=   2.0s\n",
            "[CV] END max_depth=20, min_samples_leaf=4, min_samples_split=10; total time=   1.9s\n",
            "[CV] END max_depth=20, min_samples_leaf=4, min_samples_split=10; total time=   2.0s\n",
            "[CV] END max_depth=30, min_samples_leaf=1, min_samples_split=2; total time=   2.1s\n",
            "[CV] END max_depth=30, min_samples_leaf=1, min_samples_split=2; total time=   2.0s\n",
            "[CV] END max_depth=30, min_samples_leaf=1, min_samples_split=2; total time=   2.0s\n",
            "[CV] END max_depth=30, min_samples_leaf=1, min_samples_split=2; total time=   2.0s\n",
            "[CV] END max_depth=30, min_samples_leaf=1, min_samples_split=2; total time=   2.0s\n",
            "[CV] END max_depth=30, min_samples_leaf=1, min_samples_split=5; total time=   2.1s\n",
            "[CV] END max_depth=30, min_samples_leaf=1, min_samples_split=5; total time=   2.1s\n",
            "[CV] END max_depth=30, min_samples_leaf=1, min_samples_split=5; total time=   2.1s\n",
            "[CV] END max_depth=30, min_samples_leaf=1, min_samples_split=5; total time=   2.0s\n",
            "[CV] END max_depth=30, min_samples_leaf=1, min_samples_split=5; total time=   2.2s\n",
            "[CV] END max_depth=30, min_samples_leaf=1, min_samples_split=10; total time=   2.1s\n",
            "[CV] END max_depth=30, min_samples_leaf=1, min_samples_split=10; total time=   2.1s\n",
            "[CV] END max_depth=30, min_samples_leaf=1, min_samples_split=10; total time=   2.0s\n",
            "[CV] END max_depth=30, min_samples_leaf=1, min_samples_split=10; total time=   2.0s\n",
            "[CV] END max_depth=30, min_samples_leaf=1, min_samples_split=10; total time=   1.9s\n",
            "[CV] END max_depth=30, min_samples_leaf=2, min_samples_split=2; total time=   2.0s\n",
            "[CV] END max_depth=30, min_samples_leaf=2, min_samples_split=2; total time=   2.0s\n",
            "[CV] END max_depth=30, min_samples_leaf=2, min_samples_split=2; total time=   2.0s\n",
            "[CV] END max_depth=30, min_samples_leaf=2, min_samples_split=2; total time=   2.0s\n",
            "[CV] END max_depth=30, min_samples_leaf=2, min_samples_split=2; total time=   2.0s\n",
            "[CV] END max_depth=30, min_samples_leaf=2, min_samples_split=5; total time=   2.0s\n",
            "[CV] END max_depth=30, min_samples_leaf=2, min_samples_split=5; total time=   1.7s\n",
            "[CV] END max_depth=30, min_samples_leaf=2, min_samples_split=5; total time=   1.3s\n",
            "[CV] END max_depth=30, min_samples_leaf=2, min_samples_split=5; total time=   1.3s\n",
            "[CV] END max_depth=30, min_samples_leaf=2, min_samples_split=5; total time=   1.3s\n",
            "[CV] END max_depth=30, min_samples_leaf=2, min_samples_split=10; total time=   1.2s\n",
            "[CV] END max_depth=30, min_samples_leaf=2, min_samples_split=10; total time=   1.2s\n",
            "[CV] END max_depth=30, min_samples_leaf=2, min_samples_split=10; total time=   1.2s\n",
            "[CV] END max_depth=30, min_samples_leaf=2, min_samples_split=10; total time=   1.2s\n",
            "[CV] END max_depth=30, min_samples_leaf=2, min_samples_split=10; total time=   1.5s\n",
            "[CV] END max_depth=30, min_samples_leaf=4, min_samples_split=2; total time=   1.8s\n",
            "[CV] END max_depth=30, min_samples_leaf=4, min_samples_split=2; total time=   1.9s\n",
            "[CV] END max_depth=30, min_samples_leaf=4, min_samples_split=2; total time=   2.0s\n",
            "[CV] END max_depth=30, min_samples_leaf=4, min_samples_split=2; total time=   1.9s\n",
            "[CV] END max_depth=30, min_samples_leaf=4, min_samples_split=2; total time=   1.9s\n",
            "[CV] END max_depth=30, min_samples_leaf=4, min_samples_split=5; total time=   1.9s\n",
            "[CV] END max_depth=30, min_samples_leaf=4, min_samples_split=5; total time=   1.9s\n",
            "[CV] END max_depth=30, min_samples_leaf=4, min_samples_split=5; total time=   2.0s\n",
            "[CV] END max_depth=30, min_samples_leaf=4, min_samples_split=5; total time=   1.9s\n",
            "[CV] END max_depth=30, min_samples_leaf=4, min_samples_split=5; total time=   2.0s\n",
            "[CV] END max_depth=30, min_samples_leaf=4, min_samples_split=10; total time=   1.9s\n",
            "[CV] END max_depth=30, min_samples_leaf=4, min_samples_split=10; total time=   1.8s\n",
            "[CV] END max_depth=30, min_samples_leaf=4, min_samples_split=10; total time=   1.2s\n",
            "[CV] END max_depth=30, min_samples_leaf=4, min_samples_split=10; total time=   1.2s\n",
            "[CV] END max_depth=30, min_samples_leaf=4, min_samples_split=10; total time=   1.2s\n",
            "[CV] END max_depth=40, min_samples_leaf=1, min_samples_split=2; total time=   1.3s\n",
            "[CV] END max_depth=40, min_samples_leaf=1, min_samples_split=2; total time=   1.3s\n",
            "[CV] END max_depth=40, min_samples_leaf=1, min_samples_split=2; total time=   1.3s\n",
            "[CV] END max_depth=40, min_samples_leaf=1, min_samples_split=2; total time=   1.3s\n",
            "[CV] END max_depth=40, min_samples_leaf=1, min_samples_split=2; total time=   1.6s\n",
            "[CV] END max_depth=40, min_samples_leaf=1, min_samples_split=5; total time=   2.0s\n",
            "[CV] END max_depth=40, min_samples_leaf=1, min_samples_split=5; total time=   2.0s\n",
            "[CV] END max_depth=40, min_samples_leaf=1, min_samples_split=5; total time=   2.0s\n",
            "[CV] END max_depth=40, min_samples_leaf=1, min_samples_split=5; total time=   2.0s\n",
            "[CV] END max_depth=40, min_samples_leaf=1, min_samples_split=5; total time=   2.1s\n",
            "[CV] END max_depth=40, min_samples_leaf=1, min_samples_split=10; total time=   2.0s\n",
            "[CV] END max_depth=40, min_samples_leaf=1, min_samples_split=10; total time=   2.0s\n",
            "[CV] END max_depth=40, min_samples_leaf=1, min_samples_split=10; total time=   2.0s\n",
            "[CV] END max_depth=40, min_samples_leaf=1, min_samples_split=10; total time=   2.0s\n",
            "[CV] END max_depth=40, min_samples_leaf=1, min_samples_split=10; total time=   1.9s\n",
            "[CV] END max_depth=40, min_samples_leaf=2, min_samples_split=2; total time=   2.0s\n",
            "[CV] END max_depth=40, min_samples_leaf=2, min_samples_split=2; total time=   1.6s\n",
            "[CV] END max_depth=40, min_samples_leaf=2, min_samples_split=2; total time=   1.3s\n",
            "[CV] END max_depth=40, min_samples_leaf=2, min_samples_split=2; total time=   1.3s\n",
            "[CV] END max_depth=40, min_samples_leaf=2, min_samples_split=2; total time=   1.3s\n",
            "[CV] END max_depth=40, min_samples_leaf=2, min_samples_split=5; total time=   1.3s\n",
            "[CV] END max_depth=40, min_samples_leaf=2, min_samples_split=5; total time=   1.3s\n",
            "[CV] END max_depth=40, min_samples_leaf=2, min_samples_split=5; total time=   1.3s\n",
            "[CV] END max_depth=40, min_samples_leaf=2, min_samples_split=5; total time=   1.4s\n",
            "[CV] END max_depth=40, min_samples_leaf=2, min_samples_split=5; total time=   1.9s\n",
            "[CV] END max_depth=40, min_samples_leaf=2, min_samples_split=10; total time=   1.9s\n",
            "[CV] END max_depth=40, min_samples_leaf=2, min_samples_split=10; total time=   2.0s\n",
            "[CV] END max_depth=40, min_samples_leaf=2, min_samples_split=10; total time=   2.2s\n",
            "[CV] END max_depth=40, min_samples_leaf=2, min_samples_split=10; total time=   2.1s\n",
            "[CV] END max_depth=40, min_samples_leaf=2, min_samples_split=10; total time=   2.1s\n",
            "[CV] END max_depth=40, min_samples_leaf=4, min_samples_split=2; total time=   1.9s\n",
            "[CV] END max_depth=40, min_samples_leaf=4, min_samples_split=2; total time=   2.0s\n",
            "[CV] END max_depth=40, min_samples_leaf=4, min_samples_split=2; total time=   1.9s\n",
            "[CV] END max_depth=40, min_samples_leaf=4, min_samples_split=2; total time=   1.9s\n",
            "[CV] END max_depth=40, min_samples_leaf=4, min_samples_split=2; total time=   2.0s\n",
            "[CV] END max_depth=40, min_samples_leaf=4, min_samples_split=5; total time=   2.0s\n",
            "[CV] END max_depth=40, min_samples_leaf=4, min_samples_split=5; total time=   2.0s\n",
            "[CV] END max_depth=40, min_samples_leaf=4, min_samples_split=5; total time=   2.0s\n",
            "[CV] END max_depth=40, min_samples_leaf=4, min_samples_split=5; total time=   1.9s\n",
            "[CV] END max_depth=40, min_samples_leaf=4, min_samples_split=5; total time=   2.0s\n",
            "[CV] END max_depth=40, min_samples_leaf=4, min_samples_split=10; total time=   2.0s\n",
            "[CV] END max_depth=40, min_samples_leaf=4, min_samples_split=10; total time=   2.0s\n",
            "[CV] END max_depth=40, min_samples_leaf=4, min_samples_split=10; total time=   2.1s\n",
            "[CV] END max_depth=40, min_samples_leaf=4, min_samples_split=10; total time=   2.0s\n",
            "[CV] END max_depth=40, min_samples_leaf=4, min_samples_split=10; total time=   2.1s\n"
          ]
        },
        {
          "data": {
            "text/html": [
              "<style>#sk-container-id-3 {color: black;background-color: white;}#sk-container-id-3 pre{padding: 0;}#sk-container-id-3 div.sk-toggleable {background-color: white;}#sk-container-id-3 label.sk-toggleable__label {cursor: pointer;display: block;width: 100%;margin-bottom: 0;padding: 0.3em;box-sizing: border-box;text-align: center;}#sk-container-id-3 label.sk-toggleable__label-arrow:before {content: \"▸\";float: left;margin-right: 0.25em;color: #696969;}#sk-container-id-3 label.sk-toggleable__label-arrow:hover:before {color: black;}#sk-container-id-3 div.sk-estimator:hover label.sk-toggleable__label-arrow:before {color: black;}#sk-container-id-3 div.sk-toggleable__content {max-height: 0;max-width: 0;overflow: hidden;text-align: left;background-color: #f0f8ff;}#sk-container-id-3 div.sk-toggleable__content pre {margin: 0.2em;color: black;border-radius: 0.25em;background-color: #f0f8ff;}#sk-container-id-3 input.sk-toggleable__control:checked~div.sk-toggleable__content {max-height: 200px;max-width: 100%;overflow: auto;}#sk-container-id-3 input.sk-toggleable__control:checked~label.sk-toggleable__label-arrow:before {content: \"▾\";}#sk-container-id-3 div.sk-estimator input.sk-toggleable__control:checked~label.sk-toggleable__label {background-color: #d4ebff;}#sk-container-id-3 div.sk-label input.sk-toggleable__control:checked~label.sk-toggleable__label {background-color: #d4ebff;}#sk-container-id-3 input.sk-hidden--visually {border: 0;clip: rect(1px 1px 1px 1px);clip: rect(1px, 1px, 1px, 1px);height: 1px;margin: -1px;overflow: hidden;padding: 0;position: absolute;width: 1px;}#sk-container-id-3 div.sk-estimator {font-family: monospace;background-color: #f0f8ff;border: 1px dotted black;border-radius: 0.25em;box-sizing: border-box;margin-bottom: 0.5em;}#sk-container-id-3 div.sk-estimator:hover {background-color: #d4ebff;}#sk-container-id-3 div.sk-parallel-item::after {content: \"\";width: 100%;border-bottom: 1px solid gray;flex-grow: 1;}#sk-container-id-3 div.sk-label:hover label.sk-toggleable__label {background-color: #d4ebff;}#sk-container-id-3 div.sk-serial::before {content: \"\";position: absolute;border-left: 1px solid gray;box-sizing: border-box;top: 0;bottom: 0;left: 50%;z-index: 0;}#sk-container-id-3 div.sk-serial {display: flex;flex-direction: column;align-items: center;background-color: white;padding-right: 0.2em;padding-left: 0.2em;position: relative;}#sk-container-id-3 div.sk-item {position: relative;z-index: 1;}#sk-container-id-3 div.sk-parallel {display: flex;align-items: stretch;justify-content: center;background-color: white;position: relative;}#sk-container-id-3 div.sk-item::before, #sk-container-id-3 div.sk-parallel-item::before {content: \"\";position: absolute;border-left: 1px solid gray;box-sizing: border-box;top: 0;bottom: 0;left: 50%;z-index: -1;}#sk-container-id-3 div.sk-parallel-item {display: flex;flex-direction: column;z-index: 1;position: relative;background-color: white;}#sk-container-id-3 div.sk-parallel-item:first-child::after {align-self: flex-end;width: 50%;}#sk-container-id-3 div.sk-parallel-item:last-child::after {align-self: flex-start;width: 50%;}#sk-container-id-3 div.sk-parallel-item:only-child::after {width: 0;}#sk-container-id-3 div.sk-dashed-wrapped {border: 1px dashed gray;margin: 0 0.4em 0.5em 0.4em;box-sizing: border-box;padding-bottom: 0.4em;background-color: white;}#sk-container-id-3 div.sk-label label {font-family: monospace;font-weight: bold;display: inline-block;line-height: 1.2em;}#sk-container-id-3 div.sk-label-container {text-align: center;}#sk-container-id-3 div.sk-container {/* jupyter's `normalize.less` sets `[hidden] { display: none; }` but bootstrap.min.css set `[hidden] { display: none !important; }` so we also need the `!important` here to be able to override the default hidden behavior on the sphinx rendered scikit-learn.org. See: https://github.com/scikit-learn/scikit-learn/issues/21755 */display: inline-block !important;position: relative;}#sk-container-id-3 div.sk-text-repr-fallback {display: none;}</style><div id=\"sk-container-id-3\" class=\"sk-top-container\"><div class=\"sk-text-repr-fallback\"><pre>GridSearchCV(cv=StratifiedKFold(n_splits=5, random_state=12345, shuffle=True),\n",
              "             estimator=DecisionTreeClassifier(class_weight=&#x27;balanced&#x27;),\n",
              "             param_grid={&#x27;max_depth&#x27;: [None, 10, 20, 30, 40],\n",
              "                         &#x27;min_samples_leaf&#x27;: [1, 2, 4],\n",
              "                         &#x27;min_samples_split&#x27;: [2, 5, 10]},\n",
              "             scoring=&#x27;recall&#x27;, verbose=2)</pre><b>In a Jupyter environment, please rerun this cell to show the HTML representation or trust the notebook. <br />On GitHub, the HTML representation is unable to render, please try loading this page with nbviewer.org.</b></div><div class=\"sk-container\" hidden><div class=\"sk-item sk-dashed-wrapped\"><div class=\"sk-label-container\"><div class=\"sk-label sk-toggleable\"><input class=\"sk-toggleable__control sk-hidden--visually\" id=\"sk-estimator-id-5\" type=\"checkbox\" ><label for=\"sk-estimator-id-5\" class=\"sk-toggleable__label sk-toggleable__label-arrow\">GridSearchCV</label><div class=\"sk-toggleable__content\"><pre>GridSearchCV(cv=StratifiedKFold(n_splits=5, random_state=12345, shuffle=True),\n",
              "             estimator=DecisionTreeClassifier(class_weight=&#x27;balanced&#x27;),\n",
              "             param_grid={&#x27;max_depth&#x27;: [None, 10, 20, 30, 40],\n",
              "                         &#x27;min_samples_leaf&#x27;: [1, 2, 4],\n",
              "                         &#x27;min_samples_split&#x27;: [2, 5, 10]},\n",
              "             scoring=&#x27;recall&#x27;, verbose=2)</pre></div></div></div><div class=\"sk-parallel\"><div class=\"sk-parallel-item\"><div class=\"sk-item\"><div class=\"sk-label-container\"><div class=\"sk-label sk-toggleable\"><input class=\"sk-toggleable__control sk-hidden--visually\" id=\"sk-estimator-id-6\" type=\"checkbox\" ><label for=\"sk-estimator-id-6\" class=\"sk-toggleable__label sk-toggleable__label-arrow\">estimator: DecisionTreeClassifier</label><div class=\"sk-toggleable__content\"><pre>DecisionTreeClassifier(class_weight=&#x27;balanced&#x27;)</pre></div></div></div><div class=\"sk-serial\"><div class=\"sk-item\"><div class=\"sk-estimator sk-toggleable\"><input class=\"sk-toggleable__control sk-hidden--visually\" id=\"sk-estimator-id-7\" type=\"checkbox\" ><label for=\"sk-estimator-id-7\" class=\"sk-toggleable__label sk-toggleable__label-arrow\">DecisionTreeClassifier</label><div class=\"sk-toggleable__content\"><pre>DecisionTreeClassifier(class_weight=&#x27;balanced&#x27;)</pre></div></div></div></div></div></div></div></div></div></div>"
            ],
            "text/plain": [
              "GridSearchCV(cv=StratifiedKFold(n_splits=5, random_state=12345, shuffle=True),\n",
              "             estimator=DecisionTreeClassifier(class_weight='balanced'),\n",
              "             param_grid={'max_depth': [None, 10, 20, 30, 40],\n",
              "                         'min_samples_leaf': [1, 2, 4],\n",
              "                         'min_samples_split': [2, 5, 10]},\n",
              "             scoring='recall', verbose=2)"
            ]
          },
          "execution_count": 77,
          "metadata": {},
          "output_type": "execute_result"
        }
      ],
      "source": [
        "cv = StratifiedKFold(random_state=seed, shuffle=True, n_splits=5)\n",
        "\n",
        "estimator = DecisionTreeClassifier(class_weight='balanced')\n",
        "\n",
        "param_grid = {\n",
        "    'max_depth': [None, 10, 20, 30, 40],\n",
        "    'min_samples_split': [2, 5, 10],\n",
        "    'min_samples_leaf': [1, 2, 4]\n",
        "}\n",
        "\n",
        "scoring = 'recall'\n",
        "\n",
        "search = GridSearchCV(estimator=estimator, param_grid=param_grid, cv=cv, scoring=scoring, verbose=2)\n",
        "\n",
        "search.fit(X_train, y_train)"
      ]
    },
    {
      "cell_type": "code",
      "execution_count": null,
      "metadata": {
        "colab": {
          "background_save": true
        },
        "id": "ZuUEO7R39eXS",
        "outputId": "6ffbf93d-75b8-4827-b98d-5628c4c1dcb8"
      },
      "outputs": [
        {
          "name": "stdout",
          "output_type": "stream",
          "text": [
            "The best Decision Tree Classifier model has hyperparameters {'max_depth': 10, 'min_samples_leaf': 4, 'min_samples_split': 10}\n",
            "The best model achieves an average cross-validation score of 76.89%\n",
            "The best model achieves a score of 77.24% on the testing data\n"
          ]
        }
      ],
      "source": [
        "print(f'The best Decision Tree Classifier model has hyperparameters {search.best_params_}')\n",
        "print(f'The best model achieves an average cross-validation score of {search.best_score_*100:.2f}%')\n",
        "print(f'The best model achieves a score of {recall_score(y_test, search.best_estimator_.predict(X_test))*100:.2f}% on the testing data')"
      ]
    },
    {
      "cell_type": "markdown",
      "metadata": {
        "id": "W913G2vDSHlE"
      },
      "source": [
        "Since the recall was still pretty low, we tried using a random forest classifier, as using an ensemble method can help with overfitting. Since the test recall was still pretty poor, we did hyperparameter tuning again, but it did not improve the results much."
      ]
    },
    {
      "cell_type": "code",
      "execution_count": null,
      "metadata": {
        "colab": {
          "background_save": true
        },
        "id": "zqpQ4g7pAceY"
      },
      "outputs": [],
      "source": [
        "rf_classifier = RandomForestClassifier(class_weight='balanced')\n",
        "\n",
        "rf_classifier.fit(X_train, y_train)\n",
        "\n",
        "test_pred = rf_classifier.predict(X_test)\n",
        "train_pred = rf_classifier.predict(X_train)"
      ]
    },
    {
      "cell_type": "code",
      "execution_count": null,
      "metadata": {
        "colab": {
          "background_save": true
        },
        "id": "ZDeAPFAmCQL8",
        "outputId": "62a8508d-d4a4-48db-d274-58ec0d87f8c0"
      },
      "outputs": [
        {
          "name": "stdout",
          "output_type": "stream",
          "text": [
            "\n",
            "Random Forest Classifier\n",
            "Testing Accuracy: 84.72%\n",
            "Testing Recall: 18.61%\n",
            "Testing Precision: 50.49%\n",
            "Training Accuracy: 99.47%\n",
            "Training Recall: 99.35%\n",
            "Training Precision: 97.22%\n",
            "[[201393   1041]\n",
            " [   237  36438]]\n",
            "[[48936  1673]\n",
            " [ 7463  1706]]\n"
          ]
        }
      ],
      "source": [
        "rf_test_acc = accuracy_score(y_test, test_pred)\n",
        "rf_test_rec = recall_score(y_test, test_pred)\n",
        "rf_test_pre = precision_score(y_test, test_pred)\n",
        "rf_train_acc = accuracy_score(y_train, train_pred)\n",
        "rf_train_rec = recall_score(y_train, train_pred)\n",
        "rf_train_pre = precision_score(y_train, train_pred)\n",
        "\n",
        "print()\n",
        "print('Random Forest Classifier')\n",
        "print(f'Testing Accuracy: {rf_test_acc*100:.2f}%')\n",
        "print(f'Testing Recall: {rf_test_rec*100:.2f}%')\n",
        "print(f'Testing Precision: {rf_test_pre*100:.2f}%')\n",
        "print(f'Training Accuracy: {rf_train_acc*100:.2f}%')\n",
        "print(f'Training Recall: {rf_train_rec*100:.2f}%')\n",
        "print(f'Training Precision: {rf_train_pre*100:.2f}%')\n",
        "\n",
        "rf_train_mx = confusion_matrix(y_train, train_pred)\n",
        "print(rf_train_mx)\n",
        "rf_test_mx = confusion_matrix(y_test, test_pred)\n",
        "print(rf_test_mx)"
      ]
    },
    {
      "cell_type": "code",
      "execution_count": null,
      "metadata": {
        "colab": {
          "background_save": true
        },
        "id": "8rGJNKNsCc2D",
        "outputId": "c456923f-adba-487d-bd91-a35ba98c557d"
      },
      "outputs": [
        {
          "name": "stdout",
          "output_type": "stream",
          "text": [
            "Fitting 5 folds for each of 27 candidates, totalling 135 fits\n",
            "[CV] END min_samples_leaf=1, min_samples_split=2, n_estimators=100; total time=  34.0s\n",
            "[CV] END min_samples_leaf=1, min_samples_split=2, n_estimators=100; total time=  38.1s\n",
            "[CV] END min_samples_leaf=1, min_samples_split=2, n_estimators=100; total time=  35.4s\n",
            "[CV] END min_samples_leaf=1, min_samples_split=2, n_estimators=100; total time=  41.3s\n",
            "[CV] END min_samples_leaf=1, min_samples_split=2, n_estimators=100; total time=  41.3s\n",
            "[CV] END min_samples_leaf=1, min_samples_split=2, n_estimators=50; total time=  13.8s\n",
            "[CV] END min_samples_leaf=1, min_samples_split=2, n_estimators=50; total time=  20.0s\n",
            "[CV] END min_samples_leaf=1, min_samples_split=2, n_estimators=50; total time=  14.0s\n",
            "[CV] END min_samples_leaf=1, min_samples_split=2, n_estimators=50; total time=  19.8s\n",
            "[CV] END min_samples_leaf=1, min_samples_split=2, n_estimators=50; total time=  14.3s\n",
            "[CV] END min_samples_leaf=1, min_samples_split=2, n_estimators=10; total time=   4.1s\n",
            "[CV] END min_samples_leaf=1, min_samples_split=2, n_estimators=10; total time=   4.2s\n",
            "[CV] END min_samples_leaf=1, min_samples_split=2, n_estimators=10; total time=   4.1s\n",
            "[CV] END min_samples_leaf=1, min_samples_split=2, n_estimators=10; total time=   4.2s\n",
            "[CV] END min_samples_leaf=1, min_samples_split=2, n_estimators=10; total time=   4.3s\n",
            "[CV] END min_samples_leaf=1, min_samples_split=5, n_estimators=100; total time=  38.8s\n",
            "[CV] END min_samples_leaf=1, min_samples_split=5, n_estimators=100; total time=  34.8s\n",
            "[CV] END min_samples_leaf=1, min_samples_split=5, n_estimators=100; total time=  32.1s\n",
            "[CV] END min_samples_leaf=1, min_samples_split=5, n_estimators=100; total time=  32.1s\n",
            "[CV] END min_samples_leaf=1, min_samples_split=5, n_estimators=100; total time=  34.9s\n",
            "[CV] END min_samples_leaf=1, min_samples_split=5, n_estimators=50; total time=  19.1s\n",
            "[CV] END min_samples_leaf=1, min_samples_split=5, n_estimators=50; total time=  19.1s\n",
            "[CV] END min_samples_leaf=1, min_samples_split=5, n_estimators=50; total time=  12.5s\n",
            "[CV] END min_samples_leaf=1, min_samples_split=5, n_estimators=50; total time=  19.3s\n",
            "[CV] END min_samples_leaf=1, min_samples_split=5, n_estimators=50; total time=  19.2s\n",
            "[CV] END min_samples_leaf=1, min_samples_split=5, n_estimators=10; total time=   3.9s\n",
            "[CV] END min_samples_leaf=1, min_samples_split=5, n_estimators=10; total time=   2.8s\n",
            "[CV] END min_samples_leaf=1, min_samples_split=5, n_estimators=10; total time=   2.5s\n",
            "[CV] END min_samples_leaf=1, min_samples_split=5, n_estimators=10; total time=   2.7s\n",
            "[CV] END min_samples_leaf=1, min_samples_split=5, n_estimators=10; total time=   3.4s\n",
            "[CV] END min_samples_leaf=1, min_samples_split=10, n_estimators=100; total time=  29.8s\n",
            "[CV] END min_samples_leaf=1, min_samples_split=10, n_estimators=100; total time=  30.7s\n",
            "[CV] END min_samples_leaf=1, min_samples_split=10, n_estimators=100; total time=  38.0s\n",
            "[CV] END min_samples_leaf=1, min_samples_split=10, n_estimators=100; total time=  28.6s\n",
            "[CV] END min_samples_leaf=1, min_samples_split=10, n_estimators=100; total time=  30.4s\n",
            "[CV] END min_samples_leaf=1, min_samples_split=10, n_estimators=50; total time=  17.9s\n",
            "[CV] END min_samples_leaf=1, min_samples_split=10, n_estimators=50; total time=  17.9s\n",
            "[CV] END min_samples_leaf=1, min_samples_split=10, n_estimators=50; total time=  14.3s\n",
            "[CV] END min_samples_leaf=1, min_samples_split=10, n_estimators=50; total time=  14.4s\n",
            "[CV] END min_samples_leaf=1, min_samples_split=10, n_estimators=50; total time=  16.1s\n",
            "[CV] END min_samples_leaf=1, min_samples_split=10, n_estimators=10; total time=   3.2s\n",
            "[CV] END min_samples_leaf=1, min_samples_split=10, n_estimators=10; total time=   4.6s\n",
            "[CV] END min_samples_leaf=1, min_samples_split=10, n_estimators=10; total time=   3.7s\n",
            "[CV] END min_samples_leaf=1, min_samples_split=10, n_estimators=10; total time=   3.8s\n",
            "[CV] END min_samples_leaf=1, min_samples_split=10, n_estimators=10; total time=   3.8s\n",
            "[CV] END min_samples_leaf=2, min_samples_split=2, n_estimators=100; total time=  33.7s\n",
            "[CV] END min_samples_leaf=2, min_samples_split=2, n_estimators=100; total time=  31.3s\n",
            "[CV] END min_samples_leaf=2, min_samples_split=2, n_estimators=100; total time=  31.1s\n",
            "[CV] END min_samples_leaf=2, min_samples_split=2, n_estimators=100; total time=  30.3s\n",
            "[CV] END min_samples_leaf=2, min_samples_split=2, n_estimators=100; total time=  34.0s\n",
            "[CV] END min_samples_leaf=2, min_samples_split=2, n_estimators=50; total time=  18.8s\n",
            "[CV] END min_samples_leaf=2, min_samples_split=2, n_estimators=50; total time=  18.7s\n",
            "[CV] END min_samples_leaf=2, min_samples_split=2, n_estimators=50; total time=  13.7s\n",
            "[CV] END min_samples_leaf=2, min_samples_split=2, n_estimators=50; total time=  18.3s\n",
            "[CV] END min_samples_leaf=2, min_samples_split=2, n_estimators=50; total time=  12.4s\n",
            "[CV] END min_samples_leaf=2, min_samples_split=2, n_estimators=10; total time=   3.5s\n",
            "[CV] END min_samples_leaf=2, min_samples_split=2, n_estimators=10; total time=   3.8s\n",
            "[CV] END min_samples_leaf=2, min_samples_split=2, n_estimators=10; total time=   3.8s\n",
            "[CV] END min_samples_leaf=2, min_samples_split=2, n_estimators=10; total time=   3.8s\n",
            "[CV] END min_samples_leaf=2, min_samples_split=2, n_estimators=10; total time=   3.8s\n",
            "[CV] END min_samples_leaf=2, min_samples_split=5, n_estimators=100; total time=  29.4s\n",
            "[CV] END min_samples_leaf=2, min_samples_split=5, n_estimators=100; total time=  29.8s\n",
            "[CV] END min_samples_leaf=2, min_samples_split=5, n_estimators=100; total time=  37.2s\n",
            "[CV] END min_samples_leaf=2, min_samples_split=5, n_estimators=100; total time=  37.3s\n",
            "[CV] END min_samples_leaf=2, min_samples_split=5, n_estimators=100; total time=  30.3s\n",
            "[CV] END min_samples_leaf=2, min_samples_split=5, n_estimators=50; total time=  16.1s\n",
            "[CV] END min_samples_leaf=2, min_samples_split=5, n_estimators=50; total time=  18.7s\n",
            "[CV] END min_samples_leaf=2, min_samples_split=5, n_estimators=50; total time=  15.3s\n",
            "[CV] END min_samples_leaf=2, min_samples_split=5, n_estimators=50; total time=  15.1s\n",
            "[CV] END min_samples_leaf=2, min_samples_split=5, n_estimators=50; total time=  16.0s\n",
            "[CV] END min_samples_leaf=2, min_samples_split=5, n_estimators=10; total time=   2.4s\n",
            "[CV] END min_samples_leaf=2, min_samples_split=5, n_estimators=10; total time=   2.4s\n",
            "[CV] END min_samples_leaf=2, min_samples_split=5, n_estimators=10; total time=   2.5s\n",
            "[CV] END min_samples_leaf=2, min_samples_split=5, n_estimators=10; total time=   3.7s\n",
            "[CV] END min_samples_leaf=2, min_samples_split=5, n_estimators=10; total time=   4.0s\n",
            "[CV] END min_samples_leaf=2, min_samples_split=10, n_estimators=100; total time=  36.1s\n",
            "[CV] END min_samples_leaf=2, min_samples_split=10, n_estimators=100; total time=  35.3s\n",
            "[CV] END min_samples_leaf=2, min_samples_split=10, n_estimators=100; total time=  27.5s\n",
            "[CV] END min_samples_leaf=2, min_samples_split=10, n_estimators=100; total time=  28.0s\n",
            "[CV] END min_samples_leaf=2, min_samples_split=10, n_estimators=100; total time=  30.1s\n",
            "[CV] END min_samples_leaf=2, min_samples_split=10, n_estimators=50; total time=  14.5s\n",
            "[CV] END min_samples_leaf=2, min_samples_split=10, n_estimators=50; total time=  17.6s\n",
            "[CV] END min_samples_leaf=2, min_samples_split=10, n_estimators=50; total time=  17.8s\n",
            "[CV] END min_samples_leaf=2, min_samples_split=10, n_estimators=50; total time=  17.3s\n",
            "[CV] END min_samples_leaf=2, min_samples_split=10, n_estimators=50; total time=  17.3s\n",
            "[CV] END min_samples_leaf=2, min_samples_split=10, n_estimators=10; total time=   3.8s\n",
            "[CV] END min_samples_leaf=2, min_samples_split=10, n_estimators=10; total time=   3.7s\n",
            "[CV] END min_samples_leaf=2, min_samples_split=10, n_estimators=10; total time=   3.8s\n",
            "[CV] END min_samples_leaf=2, min_samples_split=10, n_estimators=10; total time=   3.7s\n",
            "[CV] END min_samples_leaf=2, min_samples_split=10, n_estimators=10; total time=   3.7s\n",
            "[CV] END min_samples_leaf=4, min_samples_split=2, n_estimators=100; total time=  27.5s\n",
            "[CV] END min_samples_leaf=4, min_samples_split=2, n_estimators=100; total time=  29.6s\n",
            "[CV] END min_samples_leaf=4, min_samples_split=2, n_estimators=100; total time=  29.4s\n",
            "[CV] END min_samples_leaf=4, min_samples_split=2, n_estimators=100; total time=  32.1s\n",
            "[CV] END min_samples_leaf=4, min_samples_split=2, n_estimators=100; total time=  27.6s\n",
            "[CV] END min_samples_leaf=4, min_samples_split=2, n_estimators=50; total time=  16.3s\n",
            "[CV] END min_samples_leaf=4, min_samples_split=2, n_estimators=50; total time=  13.0s\n",
            "[CV] END min_samples_leaf=4, min_samples_split=2, n_estimators=50; total time=  15.0s\n",
            "[CV] END min_samples_leaf=4, min_samples_split=2, n_estimators=50; total time=  17.1s\n",
            "[CV] END min_samples_leaf=4, min_samples_split=2, n_estimators=50; total time=  17.3s\n",
            "[CV] END min_samples_leaf=4, min_samples_split=2, n_estimators=10; total time=   2.5s\n",
            "[CV] END min_samples_leaf=4, min_samples_split=2, n_estimators=10; total time=   2.2s\n",
            "[CV] END min_samples_leaf=4, min_samples_split=2, n_estimators=10; total time=   2.2s\n",
            "[CV] END min_samples_leaf=4, min_samples_split=2, n_estimators=10; total time=   2.7s\n",
            "[CV] END min_samples_leaf=4, min_samples_split=2, n_estimators=10; total time=   3.3s\n",
            "[CV] END min_samples_leaf=4, min_samples_split=5, n_estimators=100; total time=  28.0s\n",
            "[CV] END min_samples_leaf=4, min_samples_split=5, n_estimators=100; total time=  33.9s\n",
            "[CV] END min_samples_leaf=4, min_samples_split=5, n_estimators=100; total time=  27.3s\n",
            "[CV] END min_samples_leaf=4, min_samples_split=5, n_estimators=100; total time=  27.9s\n",
            "[CV] END min_samples_leaf=4, min_samples_split=5, n_estimators=100; total time=  29.4s\n",
            "[CV] END min_samples_leaf=4, min_samples_split=5, n_estimators=50; total time=  13.1s\n",
            "[CV] END min_samples_leaf=4, min_samples_split=5, n_estimators=50; total time=  16.9s\n",
            "[CV] END min_samples_leaf=4, min_samples_split=5, n_estimators=50; total time=  18.3s\n",
            "[CV] END min_samples_leaf=4, min_samples_split=5, n_estimators=50; total time=  15.2s\n",
            "[CV] END min_samples_leaf=4, min_samples_split=5, n_estimators=50; total time=  17.1s\n",
            "[CV] END min_samples_leaf=4, min_samples_split=5, n_estimators=10; total time=   3.5s\n",
            "[CV] END min_samples_leaf=4, min_samples_split=5, n_estimators=10; total time=   3.6s\n",
            "[CV] END min_samples_leaf=4, min_samples_split=5, n_estimators=10; total time=   3.6s\n",
            "[CV] END min_samples_leaf=4, min_samples_split=5, n_estimators=10; total time=   3.5s\n",
            "[CV] END min_samples_leaf=4, min_samples_split=5, n_estimators=10; total time=   3.5s\n",
            "[CV] END min_samples_leaf=4, min_samples_split=10, n_estimators=100; total time=  30.2s\n",
            "[CV] END min_samples_leaf=4, min_samples_split=10, n_estimators=100; total time=  27.9s\n",
            "[CV] END min_samples_leaf=4, min_samples_split=10, n_estimators=100; total time=  26.4s\n",
            "[CV] END min_samples_leaf=4, min_samples_split=10, n_estimators=100; total time=  26.5s\n",
            "[CV] END min_samples_leaf=4, min_samples_split=10, n_estimators=100; total time=  31.5s\n",
            "[CV] END min_samples_leaf=4, min_samples_split=10, n_estimators=50; total time=  17.4s\n",
            "[CV] END min_samples_leaf=4, min_samples_split=10, n_estimators=50; total time=  17.0s\n",
            "[CV] END min_samples_leaf=4, min_samples_split=10, n_estimators=50; total time=  17.4s\n",
            "[CV] END min_samples_leaf=4, min_samples_split=10, n_estimators=50; total time=  16.4s\n",
            "[CV] END min_samples_leaf=4, min_samples_split=10, n_estimators=50; total time=  14.9s\n",
            "[CV] END min_samples_leaf=4, min_samples_split=10, n_estimators=10; total time=   2.1s\n",
            "[CV] END min_samples_leaf=4, min_samples_split=10, n_estimators=10; total time=   2.1s\n",
            "[CV] END min_samples_leaf=4, min_samples_split=10, n_estimators=10; total time=   2.1s\n",
            "[CV] END min_samples_leaf=4, min_samples_split=10, n_estimators=10; total time=   2.6s\n",
            "[CV] END min_samples_leaf=4, min_samples_split=10, n_estimators=10; total time=   3.4s\n"
          ]
        },
        {
          "data": {
            "text/html": [
              "<style>#sk-container-id-4 {color: black;background-color: white;}#sk-container-id-4 pre{padding: 0;}#sk-container-id-4 div.sk-toggleable {background-color: white;}#sk-container-id-4 label.sk-toggleable__label {cursor: pointer;display: block;width: 100%;margin-bottom: 0;padding: 0.3em;box-sizing: border-box;text-align: center;}#sk-container-id-4 label.sk-toggleable__label-arrow:before {content: \"▸\";float: left;margin-right: 0.25em;color: #696969;}#sk-container-id-4 label.sk-toggleable__label-arrow:hover:before {color: black;}#sk-container-id-4 div.sk-estimator:hover label.sk-toggleable__label-arrow:before {color: black;}#sk-container-id-4 div.sk-toggleable__content {max-height: 0;max-width: 0;overflow: hidden;text-align: left;background-color: #f0f8ff;}#sk-container-id-4 div.sk-toggleable__content pre {margin: 0.2em;color: black;border-radius: 0.25em;background-color: #f0f8ff;}#sk-container-id-4 input.sk-toggleable__control:checked~div.sk-toggleable__content {max-height: 200px;max-width: 100%;overflow: auto;}#sk-container-id-4 input.sk-toggleable__control:checked~label.sk-toggleable__label-arrow:before {content: \"▾\";}#sk-container-id-4 div.sk-estimator input.sk-toggleable__control:checked~label.sk-toggleable__label {background-color: #d4ebff;}#sk-container-id-4 div.sk-label input.sk-toggleable__control:checked~label.sk-toggleable__label {background-color: #d4ebff;}#sk-container-id-4 input.sk-hidden--visually {border: 0;clip: rect(1px 1px 1px 1px);clip: rect(1px, 1px, 1px, 1px);height: 1px;margin: -1px;overflow: hidden;padding: 0;position: absolute;width: 1px;}#sk-container-id-4 div.sk-estimator {font-family: monospace;background-color: #f0f8ff;border: 1px dotted black;border-radius: 0.25em;box-sizing: border-box;margin-bottom: 0.5em;}#sk-container-id-4 div.sk-estimator:hover {background-color: #d4ebff;}#sk-container-id-4 div.sk-parallel-item::after {content: \"\";width: 100%;border-bottom: 1px solid gray;flex-grow: 1;}#sk-container-id-4 div.sk-label:hover label.sk-toggleable__label {background-color: #d4ebff;}#sk-container-id-4 div.sk-serial::before {content: \"\";position: absolute;border-left: 1px solid gray;box-sizing: border-box;top: 0;bottom: 0;left: 50%;z-index: 0;}#sk-container-id-4 div.sk-serial {display: flex;flex-direction: column;align-items: center;background-color: white;padding-right: 0.2em;padding-left: 0.2em;position: relative;}#sk-container-id-4 div.sk-item {position: relative;z-index: 1;}#sk-container-id-4 div.sk-parallel {display: flex;align-items: stretch;justify-content: center;background-color: white;position: relative;}#sk-container-id-4 div.sk-item::before, #sk-container-id-4 div.sk-parallel-item::before {content: \"\";position: absolute;border-left: 1px solid gray;box-sizing: border-box;top: 0;bottom: 0;left: 50%;z-index: -1;}#sk-container-id-4 div.sk-parallel-item {display: flex;flex-direction: column;z-index: 1;position: relative;background-color: white;}#sk-container-id-4 div.sk-parallel-item:first-child::after {align-self: flex-end;width: 50%;}#sk-container-id-4 div.sk-parallel-item:last-child::after {align-self: flex-start;width: 50%;}#sk-container-id-4 div.sk-parallel-item:only-child::after {width: 0;}#sk-container-id-4 div.sk-dashed-wrapped {border: 1px dashed gray;margin: 0 0.4em 0.5em 0.4em;box-sizing: border-box;padding-bottom: 0.4em;background-color: white;}#sk-container-id-4 div.sk-label label {font-family: monospace;font-weight: bold;display: inline-block;line-height: 1.2em;}#sk-container-id-4 div.sk-label-container {text-align: center;}#sk-container-id-4 div.sk-container {/* jupyter's `normalize.less` sets `[hidden] { display: none; }` but bootstrap.min.css set `[hidden] { display: none !important; }` so we also need the `!important` here to be able to override the default hidden behavior on the sphinx rendered scikit-learn.org. See: https://github.com/scikit-learn/scikit-learn/issues/21755 */display: inline-block !important;position: relative;}#sk-container-id-4 div.sk-text-repr-fallback {display: none;}</style><div id=\"sk-container-id-4\" class=\"sk-top-container\"><div class=\"sk-text-repr-fallback\"><pre>GridSearchCV(cv=StratifiedKFold(n_splits=5, random_state=12345, shuffle=True),\n",
              "             estimator=RandomForestClassifier(class_weight=&#x27;balanced&#x27;,\n",
              "                                              max_depth=40),\n",
              "             param_grid={&#x27;min_samples_leaf&#x27;: [1, 2, 4],\n",
              "                         &#x27;min_samples_split&#x27;: [2, 5, 10],\n",
              "                         &#x27;n_estimators&#x27;: [100, 50, 10]},\n",
              "             scoring=&#x27;recall&#x27;, verbose=2)</pre><b>In a Jupyter environment, please rerun this cell to show the HTML representation or trust the notebook. <br />On GitHub, the HTML representation is unable to render, please try loading this page with nbviewer.org.</b></div><div class=\"sk-container\" hidden><div class=\"sk-item sk-dashed-wrapped\"><div class=\"sk-label-container\"><div class=\"sk-label sk-toggleable\"><input class=\"sk-toggleable__control sk-hidden--visually\" id=\"sk-estimator-id-8\" type=\"checkbox\" ><label for=\"sk-estimator-id-8\" class=\"sk-toggleable__label sk-toggleable__label-arrow\">GridSearchCV</label><div class=\"sk-toggleable__content\"><pre>GridSearchCV(cv=StratifiedKFold(n_splits=5, random_state=12345, shuffle=True),\n",
              "             estimator=RandomForestClassifier(class_weight=&#x27;balanced&#x27;,\n",
              "                                              max_depth=40),\n",
              "             param_grid={&#x27;min_samples_leaf&#x27;: [1, 2, 4],\n",
              "                         &#x27;min_samples_split&#x27;: [2, 5, 10],\n",
              "                         &#x27;n_estimators&#x27;: [100, 50, 10]},\n",
              "             scoring=&#x27;recall&#x27;, verbose=2)</pre></div></div></div><div class=\"sk-parallel\"><div class=\"sk-parallel-item\"><div class=\"sk-item\"><div class=\"sk-label-container\"><div class=\"sk-label sk-toggleable\"><input class=\"sk-toggleable__control sk-hidden--visually\" id=\"sk-estimator-id-9\" type=\"checkbox\" ><label for=\"sk-estimator-id-9\" class=\"sk-toggleable__label sk-toggleable__label-arrow\">estimator: RandomForestClassifier</label><div class=\"sk-toggleable__content\"><pre>RandomForestClassifier(class_weight=&#x27;balanced&#x27;, max_depth=40)</pre></div></div></div><div class=\"sk-serial\"><div class=\"sk-item\"><div class=\"sk-estimator sk-toggleable\"><input class=\"sk-toggleable__control sk-hidden--visually\" id=\"sk-estimator-id-10\" type=\"checkbox\" ><label for=\"sk-estimator-id-10\" class=\"sk-toggleable__label sk-toggleable__label-arrow\">RandomForestClassifier</label><div class=\"sk-toggleable__content\"><pre>RandomForestClassifier(class_weight=&#x27;balanced&#x27;, max_depth=40)</pre></div></div></div></div></div></div></div></div></div></div>"
            ],
            "text/plain": [
              "GridSearchCV(cv=StratifiedKFold(n_splits=5, random_state=12345, shuffle=True),\n",
              "             estimator=RandomForestClassifier(class_weight='balanced',\n",
              "                                              max_depth=40),\n",
              "             param_grid={'min_samples_leaf': [1, 2, 4],\n",
              "                         'min_samples_split': [2, 5, 10],\n",
              "                         'n_estimators': [100, 50, 10]},\n",
              "             scoring='recall', verbose=2)"
            ]
          },
          "execution_count": 81,
          "metadata": {},
          "output_type": "execute_result"
        }
      ],
      "source": [
        "cv = StratifiedKFold(random_state=seed, shuffle=True, n_splits=5)\n",
        "\n",
        "estimator = RandomForestClassifier(class_weight='balanced', max_depth=40)\n",
        "\n",
        "param_grid = {\n",
        "    'n_estimators': [10, 20, 30],\n",
        "    'min_samples_split': [2, 5, 10],\n",
        "    'min_samples_leaf': [1, 2, 4]\n",
        "}\n",
        "\n",
        "scoring = 'recall'\n",
        "\n",
        "search = GridSearchCV(estimator=estimator, param_grid=param_grid, cv=cv, scoring=scoring, verbose=2)\n",
        "\n",
        "search.fit(X_train, y_train)"
      ]
    },
    {
      "cell_type": "code",
      "execution_count": null,
      "metadata": {
        "colab": {
          "background_save": true
        },
        "id": "l8yQWiwEEvfS",
        "outputId": "e7838c7f-2270-4dd3-9563-df68464ddfea"
      },
      "outputs": [
        {
          "name": "stdout",
          "output_type": "stream",
          "text": [
            "The best Random Forest Classifier model has hyperparameters {'min_samples_leaf': 4, 'min_samples_split': 10, 'n_estimators': 100}\n",
            "The best model achieves an average cross-validation score of 61.60%\n",
            "The best model achieves a score of 61.64% on the testing data\n"
          ]
        }
      ],
      "source": [
        "print(f'The best Random Forest Classifier model has hyperparameters {search.best_params_}')\n",
        "print(f'The best model achieves an average cross-validation score of {search.best_score_*100:.2f}%')\n",
        "print(f'The best model achieves a score of {recall_score(y_test, search.best_estimator_.predict(X_test))*100:.2f}% on the testing data')"
      ]
    },
    {
      "cell_type": "markdown",
      "metadata": {
        "id": "xHU-sUD_TB1w"
      },
      "source": [
        "While logistic regression gave the best results for recall, the random forest classifier is useful for viewing the feature importances. We can see that the most important features are bmi, age, and general health."
      ]
    },
    {
      "cell_type": "code",
      "execution_count": null,
      "metadata": {
        "colab": {
          "background_save": true
        },
        "id": "ba51-FtDFok3",
        "outputId": "ee9b4937-ffd1-44cb-ec7f-ba85433b0c1c"
      },
      "outputs": [
        {
          "data": {
            "image/png": "[encoded data removed]",
            "text/plain": [
              "<Figure size 1000x600 with 1 Axes>"
            ]
          },
          "metadata": {},
          "output_type": "display_data"
        }
      ],
      "source": [
        "feature_importances = rf_classifier.feature_importances_\n",
        "\n",
        "feature_importance_df = pd.DataFrame({'Feature': X_train.columns, 'Importance': feature_importances})\n",
        "feature_importance_df = feature_importance_df.sort_values(by='Importance', ascending=False)\n",
        "plt.figure(figsize=(10, 6))\n",
        "sns.barplot(x='Importance', y='Feature', data=feature_importance_df)\n",
        "plt.xlabel('Importance')\n",
        "plt.ylabel('Feature')\n",
        "plt.title('Feature Importances')\n",
        "plt.show()"
      ]
    },
    {
      "cell_type": "markdown",
      "metadata": {
        "id": "yIe_Glyw690s"
      },
      "source": [
        "# **Discussion and Conclusion**\n",
        "\n",
        "Key takeaways and implications: The most important factors to consider when predicting diabetes are BMI, age, general health, income, blood pressure, mental health, and cholesterol. Our logistic regression model was the best for predicting diabetes as it had the highest recall, which is the most important thing to consider in the context of medicine.\n",
        "\n",
        "\n",
        " Risk Factors: Identify key factors such as BMI, physical fitness, diet, smoking habits, etc., that are associated with diabetes.\n",
        "Demographic Patterns: Explore how age, income, and other demographic variables correlate with diabetes.\n",
        "\n",
        "Public Health Policies: Insights can inform public health policies aimed at diabetes prevention and management.\n",
        "Health Interventions: Identify target populations for health interventions and education programs.\n",
        "Personalized Medicine: Explore the potential for personalized medicine approaches based on individual risk factors.\n",
        "\n",
        "Feature importance and model limitations:\n",
        "\n",
        "Model Assumptions: Logistic regression assumes a linear relationship between features and the log-odds of the outcome, which may not hold true in all cases.\n",
        "Generalization: Assess how well the model generalizes to new, unseen data, and if there are any limitations in its applicability to different populations or contexts, especially time wise\n",
        "\n",
        "Challenges faced: Challenges we faced included encoding and relabeling data columns in a CDC and choosing out dataset. Our data was from the CDC and every column was labeled with a code so we had to check between the BRFSS codebook report and the column codes when we were cleaning the data. Each column predictor also had a unique range of values representing different meaning, which we had to standardize through preprocessing and encoding categorical data based on the numbers and meanings assigned in the codebook. Another challenge we encountered was choosing our dataset as we initially were planning on using a pre cleaned version of the dataset but wanted to be able to select the exact features that we wanted instead. So, we switched our dataset to an uncleaned CDC dataset, which required additional data cleaning and analysis.\n",
        "\n",
        "\n",
        "\n",
        "Potential improvement and future work: Looking forward, we can incorporate additional datasets to further explore data. For example, we used a dataset from 2015, but we could incorporate longitudinal analysis to track changes in risk factors over time and predict future diabetes risk more accurately. This could provide additional context on diabetes patterns and improve the predictive power of models.\n",
        "We could also further develop our project into a clinical decision support system that integrates our predictive model into healthcare workflows, providing healthcare professionals with real-time risk assessments for their patients. Additionally the models could also be integrated into the development of a mobile health application that uses our predictive model to provide personalized recommendations for individuals to reduce their risk of developing diabetes. In order to provide deeper insight into diabetes predictions, we could also integrate advanced NLP and image processing techniques. For example, if there are text-based datasets available, you could apply advanced natural language processing (NLP) techniques to extract more nuanced features related to health behaviors, social determinants, or other factors that could influence diabetes risk, and using multimedia data such as images or videos could provide additional context for predicting diabetes risk. For example, you could analyze food images to extract dietary patterns or use facial recognition to infer emotional states that could be related to stress, a risk factor for diabetes.\n",
        "\n",
        "\n"
      ]
    }
  ],
  "metadata": {
    "colab": {
      "provenance": []
    },
    "kernelspec": {
      "display_name": "Python 3",
      "name": "python3"
    },
    "language_info": {
      "name": "python"
    }
  },
  "nbformat": 4,
  "nbformat_minor": 0
}